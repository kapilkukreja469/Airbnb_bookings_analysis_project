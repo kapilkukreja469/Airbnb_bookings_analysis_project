{
  "nbformat": 4,
  "nbformat_minor": 0,
  "metadata": {
    "colab": {
      "provenance": [],
      "collapsed_sections": [
        "t6dVpIINYklI",
        "ijmpgYnKYklI",
        "-JiQyfWJYklI",
        "EM7whBJCYoAo",
        "fge-S5ZAYoAp",
        "85gYPyotYoAp",
        "RoGjAbkUYoAp",
        "4Of9eVA-YrdM",
        "iky9q4vBYrdO",
        "F6T5p64dYrdO",
        "y-Ehk30pYrdP",
        "bamQiAODYuh1",
        "QHF8YVU7Yuh3",
        "GwzvFGzlYuh3",
        "qYpmQ266Yuh3",
        "OH-pJp9IphqM",
        "bbFf2-_FphqN",
        "_ouA3fa0phqN",
        "Seke61FWphqN",
        "PIIx-8_IphqN",
        "t27r6nlMphqO",
        "r2jJGEOYphqO",
        "b0JNsNcRphqO",
        "BZR9WyysphqO",
        "jj7wYXLtphqO",
        "eZrbJ2SmphqO",
        "rFu4xreNphqO",
        "YJ55k-q6phqO",
        "gCFgpxoyphqP",
        "OVtJsKN_phqQ",
        "lssrdh5qphqQ",
        "U2RJ9gkRphqQ",
        "1M8mcRywphqQ",
        "tgIPom80phqQ",
        "JMzcOPDDphqR",
        "x-EpHcCOp1ci",
        "X_VqEhTip1ck",
        "8zGJKyg5p1ck",
        "PVzmfK_Ep1ck",
        "n3dbpmDWp1ck",
        "ylSl6qgtp1ck",
        "ZWILFDl5p1ck",
        "M7G43BXep1ck",
        "Ag9LCva-p1cl",
        "E6MkPsBcp1cl",
        "2cELzS2fp1cl",
        "3MPXvC8up1cl",
        "NC_X3p0fY2L0",
        "UV0SzAkaZNRQ",
        "YPEH6qLeZNRQ",
        "gIfDvo9L0UH2"
      ],
      "include_colab_link": true
    },
    "kernelspec": {
      "name": "python3",
      "display_name": "Python 3"
    },
    "language_info": {
      "name": "python"
    },
    "gpuClass": "standard"
  },
  "cells": [
    {
      "cell_type": "markdown",
      "metadata": {
        "id": "view-in-github",
        "colab_type": "text"
      },
      "source": [
        "<a href=\"https://colab.research.google.com/github/kapilkukreja469/Airbnb_bookings_analysis_project/blob/main/Sample_EDA_Submission_Template.ipynb\" target=\"_parent\"><img src=\"https://colab.research.google.com/assets/colab-badge.svg\" alt=\"Open In Colab\"/></a>"
      ]
    },
    {
      "cell_type": "markdown",
      "source": [
        "# **Project Name**    - Airbnb Bookings Analysis EDA\n",
        "\n"
      ],
      "metadata": {
        "id": "vncDsAP0Gaoa"
      }
    },
    {
      "cell_type": "markdown",
      "source": [
        "##### **Project Type**    - EDA\n",
        "##### **Contribution**    - Individual\n"
      ],
      "metadata": {
        "id": "beRrZCGUAJYm"
      }
    },
    {
      "cell_type": "markdown",
      "source": [
        "# **Project Summary -**"
      ],
      "metadata": {
        "id": "FJNUwmbgGyua"
      }
    },
    {
      "cell_type": "markdown",
      "source": [
        "Airbnb, Inc. is an American San Francisco-based company operating an online marketplace for short-term homestays and experiences.\n",
        "\n",
        "In this project I do analysis on 2019 website data regarding listing on website, user reviews, compare prices, analysis host data. I analysis data and provide different visulisation charts,different business insights using python language. I use numpy library for creating data array that helps to analysis such big data.we also use panda library which offers data structures and operations for manipulating numerical tables and time series.\n",
        "\n",
        "In this project we have dataset with 16 fields/columns and around 49000 observations or rows of homestays listings data.\n",
        "in first field we have unique id of listing.in second field we have name of listing then we have unique host id, Name of host, Nabourhood location, Nabourhood area, lalitude, lognitute, type of room, price of listing, minimun nights to be paid for, minimum nights to be paid for, number of reviews, date of last review, number of reviews/checks per month, host listing count,avalability of rooms in 365 days,"
      ],
      "metadata": {
        "id": "F6v_1wHtG2nS"
      }
    },
    {
      "cell_type": "markdown",
      "source": [
        "# **GitHub Link -**"
      ],
      "metadata": {
        "id": "w6K7xa23Elo4"
      }
    },
    {
      "cell_type": "markdown",
      "source": [
        "GitHub Link = https://github.com/kapilkukreja469/Airbnb_bookings_analysis_project.git"
      ],
      "metadata": {
        "id": "h1o69JH3Eqqn"
      }
    },
    {
      "cell_type": "markdown",
      "source": [
        "# **Problem Statement**\n"
      ],
      "metadata": {
        "id": "yQaldy8SH6Dl"
      }
    },
    {
      "cell_type": "markdown",
      "source": [
        "**Write Problem Statement Here.**"
      ],
      "metadata": {
        "id": "DpeJGUA3kjGy"
      }
    },
    {
      "cell_type": "markdown",
      "source": [
        "#### **Define Your Business Objective?**"
      ],
      "metadata": {
        "id": "PH-0ReGfmX4f"
      }
    },
    {
      "cell_type": "markdown",
      "source": [
        "Answer Here."
      ],
      "metadata": {
        "id": "PhDvGCAqmjP1"
      }
    },
    {
      "cell_type": "markdown",
      "source": [
        "# **General Guidelines** : -  "
      ],
      "metadata": {
        "id": "mDgbUHAGgjLW"
      }
    },
    {
      "cell_type": "markdown",
      "source": [
        "1.   Well-structured, formatted, and commented code is required. \n",
        "2.   Exception Handling, Production Grade Code & Deployment Ready Code will be a plus. Those students will be awarded some additional credits. \n",
        "     \n",
        "     The additional credits will have advantages over other students during Star Student selection.\n",
        "       \n",
        "             [ Note: - Deployment Ready Code is defined as, the whole .ipynb notebook should be executable in one go\n",
        "                       without a single error logged. ]\n",
        "\n",
        "3.   Each and every logic should have proper comments.\n",
        "4. You may add as many number of charts you want. Make Sure for each and every chart the following format should be answered.\n",
        "        \n",
        "\n",
        "```\n",
        "# Chart visualization code\n",
        "```\n",
        "            \n",
        "\n",
        "*   Why did you pick the specific chart?\n",
        "*   What is/are the insight(s) found from the chart?\n",
        "* Will the gained insights help creating a positive business impact? \n",
        "Are there any insights that lead to negative growth? Justify with specific reason.\n",
        "\n",
        "5. You have to create at least 20 logical & meaningful charts having important insights.\n",
        "\n",
        "\n",
        "[ Hints : - Do the Vizualization in  a structured way while following \"UBM\" Rule. \n",
        "\n",
        "U - Univariate Analysis,\n",
        "\n",
        "B - Bivariate Analysis (Numerical - Categorical, Numerical - Numerical, Categorical - Categorical)\n",
        "\n",
        "M - Multivariate Analysis\n",
        " ]\n",
        "\n",
        "\n",
        "\n"
      ],
      "metadata": {
        "id": "ZrxVaUj-hHfC"
      }
    },
    {
      "cell_type": "markdown",
      "source": [
        "# ***Let's Begin !***"
      ],
      "metadata": {
        "id": "O_i_v8NEhb9l"
      }
    },
    {
      "cell_type": "markdown",
      "source": [
        "### Import Libraries"
      ],
      "metadata": {
        "id": "Y3lxredqlCYt"
      }
    },
    {
      "cell_type": "code",
      "source": [
        "# Import Libraries\n",
        "import pandas as pd\n",
        "import numpy as np\n",
        "import matplotlib.pyplot as plt\n",
        "import seaborn as sns"
      ],
      "metadata": {
        "id": "M8Vqi-pPk-HR"
      },
      "execution_count": 21,
      "outputs": []
    },
    {
      "cell_type": "markdown",
      "source": [
        "### Dataset Loading"
      ],
      "metadata": {
        "id": "3RnN4peoiCZX"
      }
    },
    {
      "cell_type": "code",
      "source": [
        "from google.colab import drive\n",
        "drive.mount('/content/drive')"
      ],
      "metadata": {
        "id": "5_QjZreGbnIz",
        "outputId": "46287c80-0cff-4215-dcb0-7479d6852e9f",
        "colab": {
          "base_uri": "https://localhost:8080/"
        }
      },
      "execution_count": 2,
      "outputs": [
        {
          "output_type": "stream",
          "name": "stdout",
          "text": [
            "Mounted at /content/drive\n"
          ]
        }
      ]
    },
    {
      "cell_type": "code",
      "source": [
        "# Load Dataset\n",
        "path='/content/drive/MyDrive/Airbnb bookings analysis project/Airbnb NYC 2019.csv'\n",
        "airbnb_df = pd.read_csv(path)"
      ],
      "metadata": {
        "id": "4CkvbW_SlZ_R"
      },
      "execution_count": 3,
      "outputs": []
    },
    {
      "cell_type": "markdown",
      "source": [
        "### Dataset First View"
      ],
      "metadata": {
        "id": "x71ZqKXriCWQ"
      }
    },
    {
      "cell_type": "code",
      "source": [
        "# Dataset First Look\n",
        "airbnb_df.head(10)"
      ],
      "metadata": {
        "id": "LWNFOSvLl09H",
        "outputId": "586d8efb-bec8-4c1d-bd50-6ed878bf9b62",
        "colab": {
          "base_uri": "https://localhost:8080/",
          "height": 774
        }
      },
      "execution_count": 4,
      "outputs": [
        {
          "output_type": "execute_result",
          "data": {
            "text/plain": [
              "     id                                              name  host_id  \\\n",
              "0  2539                Clean & quiet apt home by the park     2787   \n",
              "1  2595                             Skylit Midtown Castle     2845   \n",
              "2  3647               THE VILLAGE OF HARLEM....NEW YORK !     4632   \n",
              "3  3831                   Cozy Entire Floor of Brownstone     4869   \n",
              "4  5022  Entire Apt: Spacious Studio/Loft by central park     7192   \n",
              "5  5099         Large Cozy 1 BR Apartment In Midtown East     7322   \n",
              "6  5121                                   BlissArtsSpace!     7356   \n",
              "7  5178                  Large Furnished Room Near B'way      8967   \n",
              "8  5203                Cozy Clean Guest Room - Family Apt     7490   \n",
              "9  5238                Cute & Cozy Lower East Side 1 bdrm     7549   \n",
              "\n",
              "     host_name neighbourhood_group       neighbourhood  latitude  longitude  \\\n",
              "0         John            Brooklyn          Kensington  40.64749  -73.97237   \n",
              "1     Jennifer           Manhattan             Midtown  40.75362  -73.98377   \n",
              "2    Elisabeth           Manhattan              Harlem  40.80902  -73.94190   \n",
              "3  LisaRoxanne            Brooklyn        Clinton Hill  40.68514  -73.95976   \n",
              "4        Laura           Manhattan         East Harlem  40.79851  -73.94399   \n",
              "5        Chris           Manhattan         Murray Hill  40.74767  -73.97500   \n",
              "6        Garon            Brooklyn  Bedford-Stuyvesant  40.68688  -73.95596   \n",
              "7     Shunichi           Manhattan      Hell's Kitchen  40.76489  -73.98493   \n",
              "8    MaryEllen           Manhattan     Upper West Side  40.80178  -73.96723   \n",
              "9          Ben           Manhattan           Chinatown  40.71344  -73.99037   \n",
              "\n",
              "         room_type  price  minimum_nights  number_of_reviews last_review  \\\n",
              "0     Private room    149               1                  9  2018-10-19   \n",
              "1  Entire home/apt    225               1                 45  2019-05-21   \n",
              "2     Private room    150               3                  0         NaN   \n",
              "3  Entire home/apt     89               1                270  2019-07-05   \n",
              "4  Entire home/apt     80              10                  9  2018-11-19   \n",
              "5  Entire home/apt    200               3                 74  2019-06-22   \n",
              "6     Private room     60              45                 49  2017-10-05   \n",
              "7     Private room     79               2                430  2019-06-24   \n",
              "8     Private room     79               2                118  2017-07-21   \n",
              "9  Entire home/apt    150               1                160  2019-06-09   \n",
              "\n",
              "   reviews_per_month  calculated_host_listings_count  availability_365  \n",
              "0               0.21                               6               365  \n",
              "1               0.38                               2               355  \n",
              "2                NaN                               1               365  \n",
              "3               4.64                               1               194  \n",
              "4               0.10                               1                 0  \n",
              "5               0.59                               1               129  \n",
              "6               0.40                               1                 0  \n",
              "7               3.47                               1               220  \n",
              "8               0.99                               1                 0  \n",
              "9               1.33                               4               188  "
            ],
            "text/html": [
              "\n",
              "  <div id=\"df-a813d2a0-ecf6-442b-b054-9a581b5eafa8\">\n",
              "    <div class=\"colab-df-container\">\n",
              "      <div>\n",
              "<style scoped>\n",
              "    .dataframe tbody tr th:only-of-type {\n",
              "        vertical-align: middle;\n",
              "    }\n",
              "\n",
              "    .dataframe tbody tr th {\n",
              "        vertical-align: top;\n",
              "    }\n",
              "\n",
              "    .dataframe thead th {\n",
              "        text-align: right;\n",
              "    }\n",
              "</style>\n",
              "<table border=\"1\" class=\"dataframe\">\n",
              "  <thead>\n",
              "    <tr style=\"text-align: right;\">\n",
              "      <th></th>\n",
              "      <th>id</th>\n",
              "      <th>name</th>\n",
              "      <th>host_id</th>\n",
              "      <th>host_name</th>\n",
              "      <th>neighbourhood_group</th>\n",
              "      <th>neighbourhood</th>\n",
              "      <th>latitude</th>\n",
              "      <th>longitude</th>\n",
              "      <th>room_type</th>\n",
              "      <th>price</th>\n",
              "      <th>minimum_nights</th>\n",
              "      <th>number_of_reviews</th>\n",
              "      <th>last_review</th>\n",
              "      <th>reviews_per_month</th>\n",
              "      <th>calculated_host_listings_count</th>\n",
              "      <th>availability_365</th>\n",
              "    </tr>\n",
              "  </thead>\n",
              "  <tbody>\n",
              "    <tr>\n",
              "      <th>0</th>\n",
              "      <td>2539</td>\n",
              "      <td>Clean &amp; quiet apt home by the park</td>\n",
              "      <td>2787</td>\n",
              "      <td>John</td>\n",
              "      <td>Brooklyn</td>\n",
              "      <td>Kensington</td>\n",
              "      <td>40.64749</td>\n",
              "      <td>-73.97237</td>\n",
              "      <td>Private room</td>\n",
              "      <td>149</td>\n",
              "      <td>1</td>\n",
              "      <td>9</td>\n",
              "      <td>2018-10-19</td>\n",
              "      <td>0.21</td>\n",
              "      <td>6</td>\n",
              "      <td>365</td>\n",
              "    </tr>\n",
              "    <tr>\n",
              "      <th>1</th>\n",
              "      <td>2595</td>\n",
              "      <td>Skylit Midtown Castle</td>\n",
              "      <td>2845</td>\n",
              "      <td>Jennifer</td>\n",
              "      <td>Manhattan</td>\n",
              "      <td>Midtown</td>\n",
              "      <td>40.75362</td>\n",
              "      <td>-73.98377</td>\n",
              "      <td>Entire home/apt</td>\n",
              "      <td>225</td>\n",
              "      <td>1</td>\n",
              "      <td>45</td>\n",
              "      <td>2019-05-21</td>\n",
              "      <td>0.38</td>\n",
              "      <td>2</td>\n",
              "      <td>355</td>\n",
              "    </tr>\n",
              "    <tr>\n",
              "      <th>2</th>\n",
              "      <td>3647</td>\n",
              "      <td>THE VILLAGE OF HARLEM....NEW YORK !</td>\n",
              "      <td>4632</td>\n",
              "      <td>Elisabeth</td>\n",
              "      <td>Manhattan</td>\n",
              "      <td>Harlem</td>\n",
              "      <td>40.80902</td>\n",
              "      <td>-73.94190</td>\n",
              "      <td>Private room</td>\n",
              "      <td>150</td>\n",
              "      <td>3</td>\n",
              "      <td>0</td>\n",
              "      <td>NaN</td>\n",
              "      <td>NaN</td>\n",
              "      <td>1</td>\n",
              "      <td>365</td>\n",
              "    </tr>\n",
              "    <tr>\n",
              "      <th>3</th>\n",
              "      <td>3831</td>\n",
              "      <td>Cozy Entire Floor of Brownstone</td>\n",
              "      <td>4869</td>\n",
              "      <td>LisaRoxanne</td>\n",
              "      <td>Brooklyn</td>\n",
              "      <td>Clinton Hill</td>\n",
              "      <td>40.68514</td>\n",
              "      <td>-73.95976</td>\n",
              "      <td>Entire home/apt</td>\n",
              "      <td>89</td>\n",
              "      <td>1</td>\n",
              "      <td>270</td>\n",
              "      <td>2019-07-05</td>\n",
              "      <td>4.64</td>\n",
              "      <td>1</td>\n",
              "      <td>194</td>\n",
              "    </tr>\n",
              "    <tr>\n",
              "      <th>4</th>\n",
              "      <td>5022</td>\n",
              "      <td>Entire Apt: Spacious Studio/Loft by central park</td>\n",
              "      <td>7192</td>\n",
              "      <td>Laura</td>\n",
              "      <td>Manhattan</td>\n",
              "      <td>East Harlem</td>\n",
              "      <td>40.79851</td>\n",
              "      <td>-73.94399</td>\n",
              "      <td>Entire home/apt</td>\n",
              "      <td>80</td>\n",
              "      <td>10</td>\n",
              "      <td>9</td>\n",
              "      <td>2018-11-19</td>\n",
              "      <td>0.10</td>\n",
              "      <td>1</td>\n",
              "      <td>0</td>\n",
              "    </tr>\n",
              "    <tr>\n",
              "      <th>5</th>\n",
              "      <td>5099</td>\n",
              "      <td>Large Cozy 1 BR Apartment In Midtown East</td>\n",
              "      <td>7322</td>\n",
              "      <td>Chris</td>\n",
              "      <td>Manhattan</td>\n",
              "      <td>Murray Hill</td>\n",
              "      <td>40.74767</td>\n",
              "      <td>-73.97500</td>\n",
              "      <td>Entire home/apt</td>\n",
              "      <td>200</td>\n",
              "      <td>3</td>\n",
              "      <td>74</td>\n",
              "      <td>2019-06-22</td>\n",
              "      <td>0.59</td>\n",
              "      <td>1</td>\n",
              "      <td>129</td>\n",
              "    </tr>\n",
              "    <tr>\n",
              "      <th>6</th>\n",
              "      <td>5121</td>\n",
              "      <td>BlissArtsSpace!</td>\n",
              "      <td>7356</td>\n",
              "      <td>Garon</td>\n",
              "      <td>Brooklyn</td>\n",
              "      <td>Bedford-Stuyvesant</td>\n",
              "      <td>40.68688</td>\n",
              "      <td>-73.95596</td>\n",
              "      <td>Private room</td>\n",
              "      <td>60</td>\n",
              "      <td>45</td>\n",
              "      <td>49</td>\n",
              "      <td>2017-10-05</td>\n",
              "      <td>0.40</td>\n",
              "      <td>1</td>\n",
              "      <td>0</td>\n",
              "    </tr>\n",
              "    <tr>\n",
              "      <th>7</th>\n",
              "      <td>5178</td>\n",
              "      <td>Large Furnished Room Near B'way</td>\n",
              "      <td>8967</td>\n",
              "      <td>Shunichi</td>\n",
              "      <td>Manhattan</td>\n",
              "      <td>Hell's Kitchen</td>\n",
              "      <td>40.76489</td>\n",
              "      <td>-73.98493</td>\n",
              "      <td>Private room</td>\n",
              "      <td>79</td>\n",
              "      <td>2</td>\n",
              "      <td>430</td>\n",
              "      <td>2019-06-24</td>\n",
              "      <td>3.47</td>\n",
              "      <td>1</td>\n",
              "      <td>220</td>\n",
              "    </tr>\n",
              "    <tr>\n",
              "      <th>8</th>\n",
              "      <td>5203</td>\n",
              "      <td>Cozy Clean Guest Room - Family Apt</td>\n",
              "      <td>7490</td>\n",
              "      <td>MaryEllen</td>\n",
              "      <td>Manhattan</td>\n",
              "      <td>Upper West Side</td>\n",
              "      <td>40.80178</td>\n",
              "      <td>-73.96723</td>\n",
              "      <td>Private room</td>\n",
              "      <td>79</td>\n",
              "      <td>2</td>\n",
              "      <td>118</td>\n",
              "      <td>2017-07-21</td>\n",
              "      <td>0.99</td>\n",
              "      <td>1</td>\n",
              "      <td>0</td>\n",
              "    </tr>\n",
              "    <tr>\n",
              "      <th>9</th>\n",
              "      <td>5238</td>\n",
              "      <td>Cute &amp; Cozy Lower East Side 1 bdrm</td>\n",
              "      <td>7549</td>\n",
              "      <td>Ben</td>\n",
              "      <td>Manhattan</td>\n",
              "      <td>Chinatown</td>\n",
              "      <td>40.71344</td>\n",
              "      <td>-73.99037</td>\n",
              "      <td>Entire home/apt</td>\n",
              "      <td>150</td>\n",
              "      <td>1</td>\n",
              "      <td>160</td>\n",
              "      <td>2019-06-09</td>\n",
              "      <td>1.33</td>\n",
              "      <td>4</td>\n",
              "      <td>188</td>\n",
              "    </tr>\n",
              "  </tbody>\n",
              "</table>\n",
              "</div>\n",
              "      <button class=\"colab-df-convert\" onclick=\"convertToInteractive('df-a813d2a0-ecf6-442b-b054-9a581b5eafa8')\"\n",
              "              title=\"Convert this dataframe to an interactive table.\"\n",
              "              style=\"display:none;\">\n",
              "        \n",
              "  <svg xmlns=\"http://www.w3.org/2000/svg\" height=\"24px\"viewBox=\"0 0 24 24\"\n",
              "       width=\"24px\">\n",
              "    <path d=\"M0 0h24v24H0V0z\" fill=\"none\"/>\n",
              "    <path d=\"M18.56 5.44l.94 2.06.94-2.06 2.06-.94-2.06-.94-.94-2.06-.94 2.06-2.06.94zm-11 1L8.5 8.5l.94-2.06 2.06-.94-2.06-.94L8.5 2.5l-.94 2.06-2.06.94zm10 10l.94 2.06.94-2.06 2.06-.94-2.06-.94-.94-2.06-.94 2.06-2.06.94z\"/><path d=\"M17.41 7.96l-1.37-1.37c-.4-.4-.92-.59-1.43-.59-.52 0-1.04.2-1.43.59L10.3 9.45l-7.72 7.72c-.78.78-.78 2.05 0 2.83L4 21.41c.39.39.9.59 1.41.59.51 0 1.02-.2 1.41-.59l7.78-7.78 2.81-2.81c.8-.78.8-2.07 0-2.86zM5.41 20L4 18.59l7.72-7.72 1.47 1.35L5.41 20z\"/>\n",
              "  </svg>\n",
              "      </button>\n",
              "      \n",
              "  <style>\n",
              "    .colab-df-container {\n",
              "      display:flex;\n",
              "      flex-wrap:wrap;\n",
              "      gap: 12px;\n",
              "    }\n",
              "\n",
              "    .colab-df-convert {\n",
              "      background-color: #E8F0FE;\n",
              "      border: none;\n",
              "      border-radius: 50%;\n",
              "      cursor: pointer;\n",
              "      display: none;\n",
              "      fill: #1967D2;\n",
              "      height: 32px;\n",
              "      padding: 0 0 0 0;\n",
              "      width: 32px;\n",
              "    }\n",
              "\n",
              "    .colab-df-convert:hover {\n",
              "      background-color: #E2EBFA;\n",
              "      box-shadow: 0px 1px 2px rgba(60, 64, 67, 0.3), 0px 1px 3px 1px rgba(60, 64, 67, 0.15);\n",
              "      fill: #174EA6;\n",
              "    }\n",
              "\n",
              "    [theme=dark] .colab-df-convert {\n",
              "      background-color: #3B4455;\n",
              "      fill: #D2E3FC;\n",
              "    }\n",
              "\n",
              "    [theme=dark] .colab-df-convert:hover {\n",
              "      background-color: #434B5C;\n",
              "      box-shadow: 0px 1px 3px 1px rgba(0, 0, 0, 0.15);\n",
              "      filter: drop-shadow(0px 1px 2px rgba(0, 0, 0, 0.3));\n",
              "      fill: #FFFFFF;\n",
              "    }\n",
              "  </style>\n",
              "\n",
              "      <script>\n",
              "        const buttonEl =\n",
              "          document.querySelector('#df-a813d2a0-ecf6-442b-b054-9a581b5eafa8 button.colab-df-convert');\n",
              "        buttonEl.style.display =\n",
              "          google.colab.kernel.accessAllowed ? 'block' : 'none';\n",
              "\n",
              "        async function convertToInteractive(key) {\n",
              "          const element = document.querySelector('#df-a813d2a0-ecf6-442b-b054-9a581b5eafa8');\n",
              "          const dataTable =\n",
              "            await google.colab.kernel.invokeFunction('convertToInteractive',\n",
              "                                                     [key], {});\n",
              "          if (!dataTable) return;\n",
              "\n",
              "          const docLinkHtml = 'Like what you see? Visit the ' +\n",
              "            '<a target=\"_blank\" href=https://colab.research.google.com/notebooks/data_table.ipynb>data table notebook</a>'\n",
              "            + ' to learn more about interactive tables.';\n",
              "          element.innerHTML = '';\n",
              "          dataTable['output_type'] = 'display_data';\n",
              "          await google.colab.output.renderOutput(dataTable, element);\n",
              "          const docLink = document.createElement('div');\n",
              "          docLink.innerHTML = docLinkHtml;\n",
              "          element.appendChild(docLink);\n",
              "        }\n",
              "      </script>\n",
              "    </div>\n",
              "  </div>\n",
              "  "
            ]
          },
          "metadata": {},
          "execution_count": 4
        }
      ]
    },
    {
      "cell_type": "markdown",
      "source": [
        "### Dataset Rows & Columns count"
      ],
      "metadata": {
        "id": "7hBIi_osiCS2"
      }
    },
    {
      "cell_type": "code",
      "source": [
        "# Dataset Rows & Columns count\n",
        "airbnb_df.shape"
      ],
      "metadata": {
        "id": "Kllu7SJgmLij",
        "outputId": "335f0803-9a09-41b7-a6eb-48624793465c",
        "colab": {
          "base_uri": "https://localhost:8080/"
        }
      },
      "execution_count": 5,
      "outputs": [
        {
          "output_type": "execute_result",
          "data": {
            "text/plain": [
              "(48895, 16)"
            ]
          },
          "metadata": {},
          "execution_count": 5
        }
      ]
    },
    {
      "cell_type": "markdown",
      "source": [
        "### Dataset Information"
      ],
      "metadata": {
        "id": "JlHwYmJAmNHm"
      }
    },
    {
      "cell_type": "code",
      "source": [
        "# Dataset Info\n",
        "airbnb_df.info()"
      ],
      "metadata": {
        "id": "e9hRXRi6meOf",
        "outputId": "3e1e473b-bb64-42a0-d897-154186492d17",
        "colab": {
          "base_uri": "https://localhost:8080/"
        }
      },
      "execution_count": 6,
      "outputs": [
        {
          "output_type": "stream",
          "name": "stdout",
          "text": [
            "<class 'pandas.core.frame.DataFrame'>\n",
            "RangeIndex: 48895 entries, 0 to 48894\n",
            "Data columns (total 16 columns):\n",
            " #   Column                          Non-Null Count  Dtype  \n",
            "---  ------                          --------------  -----  \n",
            " 0   id                              48895 non-null  int64  \n",
            " 1   name                            48879 non-null  object \n",
            " 2   host_id                         48895 non-null  int64  \n",
            " 3   host_name                       48874 non-null  object \n",
            " 4   neighbourhood_group             48895 non-null  object \n",
            " 5   neighbourhood                   48895 non-null  object \n",
            " 6   latitude                        48895 non-null  float64\n",
            " 7   longitude                       48895 non-null  float64\n",
            " 8   room_type                       48895 non-null  object \n",
            " 9   price                           48895 non-null  int64  \n",
            " 10  minimum_nights                  48895 non-null  int64  \n",
            " 11  number_of_reviews               48895 non-null  int64  \n",
            " 12  last_review                     38843 non-null  object \n",
            " 13  reviews_per_month               38843 non-null  float64\n",
            " 14  calculated_host_listings_count  48895 non-null  int64  \n",
            " 15  availability_365                48895 non-null  int64  \n",
            "dtypes: float64(3), int64(7), object(6)\n",
            "memory usage: 6.0+ MB\n"
          ]
        }
      ]
    },
    {
      "cell_type": "markdown",
      "source": [
        "#### Duplicate Values"
      ],
      "metadata": {
        "id": "35m5QtbWiB9F"
      }
    },
    {
      "cell_type": "code",
      "source": [
        "# Dataset Duplicate Value Count\n",
        "Duplicate_Value=airbnb_df[airbnb_df.duplicated()]\n",
        "print(\"Duplicate values Count=\",len(Duplicate_Value.index))"
      ],
      "metadata": {
        "id": "1sLdpKYkmox0",
        "colab": {
          "base_uri": "https://localhost:8080/"
        },
        "outputId": "9483b405-8f03-4a37-c082-aa14a1397e5b"
      },
      "execution_count": 7,
      "outputs": [
        {
          "output_type": "stream",
          "name": "stdout",
          "text": [
            "Duplicate values Count= 0\n"
          ]
        }
      ]
    },
    {
      "cell_type": "markdown",
      "source": [
        "#### Missing Values/Null Values"
      ],
      "metadata": {
        "id": "PoPl-ycgm1ru"
      }
    },
    {
      "cell_type": "code",
      "source": [
        "# Missing Values/Null Values Count\n",
        "missing_value_data=airbnb_df.count()\n",
        "missing_value_data=pd.DataFrame(missing_value_data,columns=['missing_values_count'])\n",
        "missing_value_data['missing_values_count'] = len(airbnb_df.index)-missing_value_data['missing_values_count']\n",
        "missing_value_data"
      ],
      "metadata": {
        "id": "GgHWkxvamxVg",
        "colab": {
          "base_uri": "https://localhost:8080/",
          "height": 551
        },
        "outputId": "d12d8cce-491f-4890-a2ef-2c2c9f2f80a1"
      },
      "execution_count": 8,
      "outputs": [
        {
          "output_type": "execute_result",
          "data": {
            "text/plain": [
              "                                missing_values_count\n",
              "id                                                 0\n",
              "name                                              16\n",
              "host_id                                            0\n",
              "host_name                                         21\n",
              "neighbourhood_group                                0\n",
              "neighbourhood                                      0\n",
              "latitude                                           0\n",
              "longitude                                          0\n",
              "room_type                                          0\n",
              "price                                              0\n",
              "minimum_nights                                     0\n",
              "number_of_reviews                                  0\n",
              "last_review                                    10052\n",
              "reviews_per_month                              10052\n",
              "calculated_host_listings_count                     0\n",
              "availability_365                                   0"
            ],
            "text/html": [
              "\n",
              "  <div id=\"df-fcadf2d8-5779-4d31-9378-7a20e652deac\">\n",
              "    <div class=\"colab-df-container\">\n",
              "      <div>\n",
              "<style scoped>\n",
              "    .dataframe tbody tr th:only-of-type {\n",
              "        vertical-align: middle;\n",
              "    }\n",
              "\n",
              "    .dataframe tbody tr th {\n",
              "        vertical-align: top;\n",
              "    }\n",
              "\n",
              "    .dataframe thead th {\n",
              "        text-align: right;\n",
              "    }\n",
              "</style>\n",
              "<table border=\"1\" class=\"dataframe\">\n",
              "  <thead>\n",
              "    <tr style=\"text-align: right;\">\n",
              "      <th></th>\n",
              "      <th>missing_values_count</th>\n",
              "    </tr>\n",
              "  </thead>\n",
              "  <tbody>\n",
              "    <tr>\n",
              "      <th>id</th>\n",
              "      <td>0</td>\n",
              "    </tr>\n",
              "    <tr>\n",
              "      <th>name</th>\n",
              "      <td>16</td>\n",
              "    </tr>\n",
              "    <tr>\n",
              "      <th>host_id</th>\n",
              "      <td>0</td>\n",
              "    </tr>\n",
              "    <tr>\n",
              "      <th>host_name</th>\n",
              "      <td>21</td>\n",
              "    </tr>\n",
              "    <tr>\n",
              "      <th>neighbourhood_group</th>\n",
              "      <td>0</td>\n",
              "    </tr>\n",
              "    <tr>\n",
              "      <th>neighbourhood</th>\n",
              "      <td>0</td>\n",
              "    </tr>\n",
              "    <tr>\n",
              "      <th>latitude</th>\n",
              "      <td>0</td>\n",
              "    </tr>\n",
              "    <tr>\n",
              "      <th>longitude</th>\n",
              "      <td>0</td>\n",
              "    </tr>\n",
              "    <tr>\n",
              "      <th>room_type</th>\n",
              "      <td>0</td>\n",
              "    </tr>\n",
              "    <tr>\n",
              "      <th>price</th>\n",
              "      <td>0</td>\n",
              "    </tr>\n",
              "    <tr>\n",
              "      <th>minimum_nights</th>\n",
              "      <td>0</td>\n",
              "    </tr>\n",
              "    <tr>\n",
              "      <th>number_of_reviews</th>\n",
              "      <td>0</td>\n",
              "    </tr>\n",
              "    <tr>\n",
              "      <th>last_review</th>\n",
              "      <td>10052</td>\n",
              "    </tr>\n",
              "    <tr>\n",
              "      <th>reviews_per_month</th>\n",
              "      <td>10052</td>\n",
              "    </tr>\n",
              "    <tr>\n",
              "      <th>calculated_host_listings_count</th>\n",
              "      <td>0</td>\n",
              "    </tr>\n",
              "    <tr>\n",
              "      <th>availability_365</th>\n",
              "      <td>0</td>\n",
              "    </tr>\n",
              "  </tbody>\n",
              "</table>\n",
              "</div>\n",
              "      <button class=\"colab-df-convert\" onclick=\"convertToInteractive('df-fcadf2d8-5779-4d31-9378-7a20e652deac')\"\n",
              "              title=\"Convert this dataframe to an interactive table.\"\n",
              "              style=\"display:none;\">\n",
              "        \n",
              "  <svg xmlns=\"http://www.w3.org/2000/svg\" height=\"24px\"viewBox=\"0 0 24 24\"\n",
              "       width=\"24px\">\n",
              "    <path d=\"M0 0h24v24H0V0z\" fill=\"none\"/>\n",
              "    <path d=\"M18.56 5.44l.94 2.06.94-2.06 2.06-.94-2.06-.94-.94-2.06-.94 2.06-2.06.94zm-11 1L8.5 8.5l.94-2.06 2.06-.94-2.06-.94L8.5 2.5l-.94 2.06-2.06.94zm10 10l.94 2.06.94-2.06 2.06-.94-2.06-.94-.94-2.06-.94 2.06-2.06.94z\"/><path d=\"M17.41 7.96l-1.37-1.37c-.4-.4-.92-.59-1.43-.59-.52 0-1.04.2-1.43.59L10.3 9.45l-7.72 7.72c-.78.78-.78 2.05 0 2.83L4 21.41c.39.39.9.59 1.41.59.51 0 1.02-.2 1.41-.59l7.78-7.78 2.81-2.81c.8-.78.8-2.07 0-2.86zM5.41 20L4 18.59l7.72-7.72 1.47 1.35L5.41 20z\"/>\n",
              "  </svg>\n",
              "      </button>\n",
              "      \n",
              "  <style>\n",
              "    .colab-df-container {\n",
              "      display:flex;\n",
              "      flex-wrap:wrap;\n",
              "      gap: 12px;\n",
              "    }\n",
              "\n",
              "    .colab-df-convert {\n",
              "      background-color: #E8F0FE;\n",
              "      border: none;\n",
              "      border-radius: 50%;\n",
              "      cursor: pointer;\n",
              "      display: none;\n",
              "      fill: #1967D2;\n",
              "      height: 32px;\n",
              "      padding: 0 0 0 0;\n",
              "      width: 32px;\n",
              "    }\n",
              "\n",
              "    .colab-df-convert:hover {\n",
              "      background-color: #E2EBFA;\n",
              "      box-shadow: 0px 1px 2px rgba(60, 64, 67, 0.3), 0px 1px 3px 1px rgba(60, 64, 67, 0.15);\n",
              "      fill: #174EA6;\n",
              "    }\n",
              "\n",
              "    [theme=dark] .colab-df-convert {\n",
              "      background-color: #3B4455;\n",
              "      fill: #D2E3FC;\n",
              "    }\n",
              "\n",
              "    [theme=dark] .colab-df-convert:hover {\n",
              "      background-color: #434B5C;\n",
              "      box-shadow: 0px 1px 3px 1px rgba(0, 0, 0, 0.15);\n",
              "      filter: drop-shadow(0px 1px 2px rgba(0, 0, 0, 0.3));\n",
              "      fill: #FFFFFF;\n",
              "    }\n",
              "  </style>\n",
              "\n",
              "      <script>\n",
              "        const buttonEl =\n",
              "          document.querySelector('#df-fcadf2d8-5779-4d31-9378-7a20e652deac button.colab-df-convert');\n",
              "        buttonEl.style.display =\n",
              "          google.colab.kernel.accessAllowed ? 'block' : 'none';\n",
              "\n",
              "        async function convertToInteractive(key) {\n",
              "          const element = document.querySelector('#df-fcadf2d8-5779-4d31-9378-7a20e652deac');\n",
              "          const dataTable =\n",
              "            await google.colab.kernel.invokeFunction('convertToInteractive',\n",
              "                                                     [key], {});\n",
              "          if (!dataTable) return;\n",
              "\n",
              "          const docLinkHtml = 'Like what you see? Visit the ' +\n",
              "            '<a target=\"_blank\" href=https://colab.research.google.com/notebooks/data_table.ipynb>data table notebook</a>'\n",
              "            + ' to learn more about interactive tables.';\n",
              "          element.innerHTML = '';\n",
              "          dataTable['output_type'] = 'display_data';\n",
              "          await google.colab.output.renderOutput(dataTable, element);\n",
              "          const docLink = document.createElement('div');\n",
              "          docLink.innerHTML = docLinkHtml;\n",
              "          element.appendChild(docLink);\n",
              "        }\n",
              "      </script>\n",
              "    </div>\n",
              "  </div>\n",
              "  "
            ]
          },
          "metadata": {},
          "execution_count": 8
        }
      ]
    },
    {
      "cell_type": "code",
      "source": [
        "# Visualizing the missing values\n",
        "plt.rcParams['figure.figsize'] = (15,5)\n",
        "missing_value_data.plot(kind='bar')\n",
        "# Set the title\n",
        "plt.title(\"Missing Value Count Chart\", fontsize = 20)\n",
        "\n",
        "# Set x and y-labels\n",
        "plt.xlabel(\"Name Of Variables\", fontsize = 15)\n",
        "plt.ylabel(\"Count Of Missing Values\", fontsize = 15)"
      ],
      "metadata": {
        "id": "3q5wnI3om9sJ",
        "colab": {
          "base_uri": "https://localhost:8080/",
          "height": 519
        },
        "outputId": "d6f512e2-2ee5-44a5-da1f-90a4749c29e4"
      },
      "execution_count": 9,
      "outputs": [
        {
          "output_type": "execute_result",
          "data": {
            "text/plain": [
              "Text(0, 0.5, 'Count Of Missing Values')"
            ]
          },
          "metadata": {},
          "execution_count": 9
        },
        {
          "output_type": "display_data",
          "data": {
            "text/plain": [
              "<Figure size 1080x360 with 1 Axes>"
            ],
            "image/png": "[encoded data removed]"
          },
          "metadata": {
            "needs_background": "light"
          }
        }
      ]
    },
    {
      "cell_type": "markdown",
      "source": [
        "## ***2. Understanding Your Variables***"
      ],
      "metadata": {
        "id": "nA9Y7ga8ng1Z"
      }
    },
    {
      "cell_type": "markdown",
      "source": [
        "### Variables Description "
      ],
      "metadata": {
        "id": "PBTbrJXOngz2"
      }
    },
    {
      "cell_type": "markdown",
      "source": [
        "We have total 16 vriables in our data set. In first field we have variable named unique id of listing.in second field we have name of listing then we have unique host id, Name of host, Nabourhood location, Nabourhood area, lalitude, lognitute, type of room, price of listing, minimun nights to be paid for, minimum nights to be paid for, number of reviews, date of last review, number of reviews/checks per month, host listing count,avalability of rooms in 365 days.\n",
        "\n",
        "\n",
        "![EDA_Air_Bnb_Bookings_Analysis_73e51f569a.png](data:image/png;base64,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)"
      ],
      "metadata": {
        "id": "aJV4KIxSnxay"
      }
    },
    {
      "cell_type": "code",
      "source": [
        "# Dataset Columns\n",
        "airbnb_df.columns"
      ],
      "metadata": {
        "id": "j7xfkqrt5Ag5",
        "colab": {
          "base_uri": "https://localhost:8080/"
        },
        "outputId": "18e2b287-acc4-44ec-d7fa-cd41eaefbfba"
      },
      "execution_count": 10,
      "outputs": [
        {
          "output_type": "execute_result",
          "data": {
            "text/plain": [
              "Index(['id', 'name', 'host_id', 'host_name', 'neighbourhood_group',\n",
              "       'neighbourhood', 'latitude', 'longitude', 'room_type', 'price',\n",
              "       'minimum_nights', 'number_of_reviews', 'last_review',\n",
              "       'reviews_per_month', 'calculated_host_listings_count',\n",
              "       'availability_365'],\n",
              "      dtype='object')"
            ]
          },
          "metadata": {},
          "execution_count": 10
        }
      ]
    },
    {
      "cell_type": "code",
      "source": [
        "# Dataset Describe\n",
        "airbnb_df.describe()"
      ],
      "metadata": {
        "id": "DnOaZdaE5Q5t",
        "colab": {
          "base_uri": "https://localhost:8080/",
          "height": 364
        },
        "outputId": "a6dc1975-94cd-4d8a-85f5-cefd67d31832"
      },
      "execution_count": 11,
      "outputs": [
        {
          "output_type": "execute_result",
          "data": {
            "text/plain": [
              "                 id       host_id      latitude     longitude         price  \\\n",
              "count  4.889500e+04  4.889500e+04  48895.000000  48895.000000  48895.000000   \n",
              "mean   1.901714e+07  6.762001e+07     40.728949    -73.952170    152.720687   \n",
              "std    1.098311e+07  7.861097e+07      0.054530      0.046157    240.154170   \n",
              "min    2.539000e+03  2.438000e+03     40.499790    -74.244420      0.000000   \n",
              "25%    9.471945e+06  7.822033e+06     40.690100    -73.983070     69.000000   \n",
              "50%    1.967728e+07  3.079382e+07     40.723070    -73.955680    106.000000   \n",
              "75%    2.915218e+07  1.074344e+08     40.763115    -73.936275    175.000000   \n",
              "max    3.648724e+07  2.743213e+08     40.913060    -73.712990  10000.000000   \n",
              "\n",
              "       minimum_nights  number_of_reviews  reviews_per_month  \\\n",
              "count    48895.000000       48895.000000       38843.000000   \n",
              "mean         7.029962          23.274466           1.373221   \n",
              "std         20.510550          44.550582           1.680442   \n",
              "min          1.000000           0.000000           0.010000   \n",
              "25%          1.000000           1.000000           0.190000   \n",
              "50%          3.000000           5.000000           0.720000   \n",
              "75%          5.000000          24.000000           2.020000   \n",
              "max       1250.000000         629.000000          58.500000   \n",
              "\n",
              "       calculated_host_listings_count  availability_365  \n",
              "count                    48895.000000      48895.000000  \n",
              "mean                         7.143982        112.781327  \n",
              "std                         32.952519        131.622289  \n",
              "min                          1.000000          0.000000  \n",
              "25%                          1.000000          0.000000  \n",
              "50%                          1.000000         45.000000  \n",
              "75%                          2.000000        227.000000  \n",
              "max                        327.000000        365.000000  "
            ],
            "text/html": [
              "\n",
              "  <div id=\"df-a2da83aa-3084-4e2f-bac8-1c667a2103e9\">\n",
              "    <div class=\"colab-df-container\">\n",
              "      <div>\n",
              "<style scoped>\n",
              "    .dataframe tbody tr th:only-of-type {\n",
              "        vertical-align: middle;\n",
              "    }\n",
              "\n",
              "    .dataframe tbody tr th {\n",
              "        vertical-align: top;\n",
              "    }\n",
              "\n",
              "    .dataframe thead th {\n",
              "        text-align: right;\n",
              "    }\n",
              "</style>\n",
              "<table border=\"1\" class=\"dataframe\">\n",
              "  <thead>\n",
              "    <tr style=\"text-align: right;\">\n",
              "      <th></th>\n",
              "      <th>id</th>\n",
              "      <th>host_id</th>\n",
              "      <th>latitude</th>\n",
              "      <th>longitude</th>\n",
              "      <th>price</th>\n",
              "      <th>minimum_nights</th>\n",
              "      <th>number_of_reviews</th>\n",
              "      <th>reviews_per_month</th>\n",
              "      <th>calculated_host_listings_count</th>\n",
              "      <th>availability_365</th>\n",
              "    </tr>\n",
              "  </thead>\n",
              "  <tbody>\n",
              "    <tr>\n",
              "      <th>count</th>\n",
              "      <td>4.889500e+04</td>\n",
              "      <td>4.889500e+04</td>\n",
              "      <td>48895.000000</td>\n",
              "      <td>48895.000000</td>\n",
              "      <td>48895.000000</td>\n",
              "      <td>48895.000000</td>\n",
              "      <td>48895.000000</td>\n",
              "      <td>38843.000000</td>\n",
              "      <td>48895.000000</td>\n",
              "      <td>48895.000000</td>\n",
              "    </tr>\n",
              "    <tr>\n",
              "      <th>mean</th>\n",
              "      <td>1.901714e+07</td>\n",
              "      <td>6.762001e+07</td>\n",
              "      <td>40.728949</td>\n",
              "      <td>-73.952170</td>\n",
              "      <td>152.720687</td>\n",
              "      <td>7.029962</td>\n",
              "      <td>23.274466</td>\n",
              "      <td>1.373221</td>\n",
              "      <td>7.143982</td>\n",
              "      <td>112.781327</td>\n",
              "    </tr>\n",
              "    <tr>\n",
              "      <th>std</th>\n",
              "      <td>1.098311e+07</td>\n",
              "      <td>7.861097e+07</td>\n",
              "      <td>0.054530</td>\n",
              "      <td>0.046157</td>\n",
              "      <td>240.154170</td>\n",
              "      <td>20.510550</td>\n",
              "      <td>44.550582</td>\n",
              "      <td>1.680442</td>\n",
              "      <td>32.952519</td>\n",
              "      <td>131.622289</td>\n",
              "    </tr>\n",
              "    <tr>\n",
              "      <th>min</th>\n",
              "      <td>2.539000e+03</td>\n",
              "      <td>2.438000e+03</td>\n",
              "      <td>40.499790</td>\n",
              "      <td>-74.244420</td>\n",
              "      <td>0.000000</td>\n",
              "      <td>1.000000</td>\n",
              "      <td>0.000000</td>\n",
              "      <td>0.010000</td>\n",
              "      <td>1.000000</td>\n",
              "      <td>0.000000</td>\n",
              "    </tr>\n",
              "    <tr>\n",
              "      <th>25%</th>\n",
              "      <td>9.471945e+06</td>\n",
              "      <td>7.822033e+06</td>\n",
              "      <td>40.690100</td>\n",
              "      <td>-73.983070</td>\n",
              "      <td>69.000000</td>\n",
              "      <td>1.000000</td>\n",
              "      <td>1.000000</td>\n",
              "      <td>0.190000</td>\n",
              "      <td>1.000000</td>\n",
              "      <td>0.000000</td>\n",
              "    </tr>\n",
              "    <tr>\n",
              "      <th>50%</th>\n",
              "      <td>1.967728e+07</td>\n",
              "      <td>3.079382e+07</td>\n",
              "      <td>40.723070</td>\n",
              "      <td>-73.955680</td>\n",
              "      <td>106.000000</td>\n",
              "      <td>3.000000</td>\n",
              "      <td>5.000000</td>\n",
              "      <td>0.720000</td>\n",
              "      <td>1.000000</td>\n",
              "      <td>45.000000</td>\n",
              "    </tr>\n",
              "    <tr>\n",
              "      <th>75%</th>\n",
              "      <td>2.915218e+07</td>\n",
              "      <td>1.074344e+08</td>\n",
              "      <td>40.763115</td>\n",
              "      <td>-73.936275</td>\n",
              "      <td>175.000000</td>\n",
              "      <td>5.000000</td>\n",
              "      <td>24.000000</td>\n",
              "      <td>2.020000</td>\n",
              "      <td>2.000000</td>\n",
              "      <td>227.000000</td>\n",
              "    </tr>\n",
              "    <tr>\n",
              "      <th>max</th>\n",
              "      <td>3.648724e+07</td>\n",
              "      <td>2.743213e+08</td>\n",
              "      <td>40.913060</td>\n",
              "      <td>-73.712990</td>\n",
              "      <td>10000.000000</td>\n",
              "      <td>1250.000000</td>\n",
              "      <td>629.000000</td>\n",
              "      <td>58.500000</td>\n",
              "      <td>327.000000</td>\n",
              "      <td>365.000000</td>\n",
              "    </tr>\n",
              "  </tbody>\n",
              "</table>\n",
              "</div>\n",
              "      <button class=\"colab-df-convert\" onclick=\"convertToInteractive('df-a2da83aa-3084-4e2f-bac8-1c667a2103e9')\"\n",
              "              title=\"Convert this dataframe to an interactive table.\"\n",
              "              style=\"display:none;\">\n",
              "        \n",
              "  <svg xmlns=\"http://www.w3.org/2000/svg\" height=\"24px\"viewBox=\"0 0 24 24\"\n",
              "       width=\"24px\">\n",
              "    <path d=\"M0 0h24v24H0V0z\" fill=\"none\"/>\n",
              "    <path d=\"M18.56 5.44l.94 2.06.94-2.06 2.06-.94-2.06-.94-.94-2.06-.94 2.06-2.06.94zm-11 1L8.5 8.5l.94-2.06 2.06-.94-2.06-.94L8.5 2.5l-.94 2.06-2.06.94zm10 10l.94 2.06.94-2.06 2.06-.94-2.06-.94-.94-2.06-.94 2.06-2.06.94z\"/><path d=\"M17.41 7.96l-1.37-1.37c-.4-.4-.92-.59-1.43-.59-.52 0-1.04.2-1.43.59L10.3 9.45l-7.72 7.72c-.78.78-.78 2.05 0 2.83L4 21.41c.39.39.9.59 1.41.59.51 0 1.02-.2 1.41-.59l7.78-7.78 2.81-2.81c.8-.78.8-2.07 0-2.86zM5.41 20L4 18.59l7.72-7.72 1.47 1.35L5.41 20z\"/>\n",
              "  </svg>\n",
              "      </button>\n",
              "      \n",
              "  <style>\n",
              "    .colab-df-container {\n",
              "      display:flex;\n",
              "      flex-wrap:wrap;\n",
              "      gap: 12px;\n",
              "    }\n",
              "\n",
              "    .colab-df-convert {\n",
              "      background-color: #E8F0FE;\n",
              "      border: none;\n",
              "      border-radius: 50%;\n",
              "      cursor: pointer;\n",
              "      display: none;\n",
              "      fill: #1967D2;\n",
              "      height: 32px;\n",
              "      padding: 0 0 0 0;\n",
              "      width: 32px;\n",
              "    }\n",
              "\n",
              "    .colab-df-convert:hover {\n",
              "      background-color: #E2EBFA;\n",
              "      box-shadow: 0px 1px 2px rgba(60, 64, 67, 0.3), 0px 1px 3px 1px rgba(60, 64, 67, 0.15);\n",
              "      fill: #174EA6;\n",
              "    }\n",
              "\n",
              "    [theme=dark] .colab-df-convert {\n",
              "      background-color: #3B4455;\n",
              "      fill: #D2E3FC;\n",
              "    }\n",
              "\n",
              "    [theme=dark] .colab-df-convert:hover {\n",
              "      background-color: #434B5C;\n",
              "      box-shadow: 0px 1px 3px 1px rgba(0, 0, 0, 0.15);\n",
              "      filter: drop-shadow(0px 1px 2px rgba(0, 0, 0, 0.3));\n",
              "      fill: #FFFFFF;\n",
              "    }\n",
              "  </style>\n",
              "\n",
              "      <script>\n",
              "        const buttonEl =\n",
              "          document.querySelector('#df-a2da83aa-3084-4e2f-bac8-1c667a2103e9 button.colab-df-convert');\n",
              "        buttonEl.style.display =\n",
              "          google.colab.kernel.accessAllowed ? 'block' : 'none';\n",
              "\n",
              "        async function convertToInteractive(key) {\n",
              "          const element = document.querySelector('#df-a2da83aa-3084-4e2f-bac8-1c667a2103e9');\n",
              "          const dataTable =\n",
              "            await google.colab.kernel.invokeFunction('convertToInteractive',\n",
              "                                                     [key], {});\n",
              "          if (!dataTable) return;\n",
              "\n",
              "          const docLinkHtml = 'Like what you see? Visit the ' +\n",
              "            '<a target=\"_blank\" href=https://colab.research.google.com/notebooks/data_table.ipynb>data table notebook</a>'\n",
              "            + ' to learn more about interactive tables.';\n",
              "          element.innerHTML = '';\n",
              "          dataTable['output_type'] = 'display_data';\n",
              "          await google.colab.output.renderOutput(dataTable, element);\n",
              "          const docLink = document.createElement('div');\n",
              "          docLink.innerHTML = docLinkHtml;\n",
              "          element.appendChild(docLink);\n",
              "        }\n",
              "      </script>\n",
              "    </div>\n",
              "  </div>\n",
              "  "
            ]
          },
          "metadata": {},
          "execution_count": 11
        }
      ]
    },
    {
      "cell_type": "markdown",
      "source": [
        "### Check Unique Values for each variable."
      ],
      "metadata": {
        "id": "u3PMJOP6ngxN"
      }
    },
    {
      "cell_type": "code",
      "source": [
        "# Check Unique Values for each variable.\n",
        "unique_data={}\n",
        "for i in airbnb_df.columns:\n",
        "  data={i:len(airbnb_df[i].unique())}\n",
        "  unique_data.update(data)\n",
        "first_dataframe = pd.Series(unique_data)\n",
        "first_dataframe"
      ],
      "metadata": {
        "id": "zms12Yq5n-jE",
        "colab": {
          "base_uri": "https://localhost:8080/"
        },
        "outputId": "5f501463-18f3-454b-cab0-563025d7249c"
      },
      "execution_count": 12,
      "outputs": [
        {
          "output_type": "execute_result",
          "data": {
            "text/plain": [
              "id                                48895\n",
              "name                              47906\n",
              "host_id                           37457\n",
              "host_name                         11453\n",
              "neighbourhood_group                   5\n",
              "neighbourhood                       221\n",
              "latitude                          19048\n",
              "longitude                         14718\n",
              "room_type                             3\n",
              "price                               674\n",
              "minimum_nights                      109\n",
              "number_of_reviews                   394\n",
              "last_review                        1765\n",
              "reviews_per_month                   938\n",
              "calculated_host_listings_count       47\n",
              "availability_365                    366\n",
              "dtype: int64"
            ]
          },
          "metadata": {},
          "execution_count": 12
        }
      ]
    },
    {
      "cell_type": "markdown",
      "source": [
        "## 3. ***Data Wrangling***"
      ],
      "metadata": {
        "id": "dauF4eBmngu3"
      }
    },
    {
      "cell_type": "markdown",
      "source": [
        "### What all manipulations have you done and insights you found?"
      ],
      "metadata": {
        "id": "MSa1f5Uengrz"
      }
    },
    {
      "cell_type": "markdown",
      "source": [
        "**I found one data error that there is 11 listings having price=0 which is not possible.**"
      ],
      "metadata": {
        "id": "VGN8erTZ4qCR"
      }
    },
    {
      "cell_type": "code",
      "source": [
        "# Befor deletion\n",
        "airbnb_df[airbnb_df['price']==0][['id','name','price']]"
      ],
      "metadata": {
        "colab": {
          "base_uri": "https://localhost:8080/",
          "height": 394
        },
        "id": "R1OTFtTMFrek",
        "outputId": "41af7a32-6752-48a4-d5c9-9995e3e34914"
      },
      "execution_count": 13,
      "outputs": [
        {
          "output_type": "execute_result",
          "data": {
            "text/plain": [
              "             id                                               name  price\n",
              "23161  18750597  Huge Brooklyn Brownstone Living, Close to it all.      0\n",
              "25433  20333471      ★Hostel Style Room | Ideal Traveling Buddies★      0\n",
              "25634  20523843    MARTIAL LOFT 3: REDEMPTION (upstairs, 2nd room)      0\n",
              "25753  20608117                    Sunny, Quiet Room in Greenpoint      0\n",
              "25778  20624541      Modern apartment in the heart of Williamsburg      0\n",
              "25794  20639628  Spacious comfortable master bedroom with nice ...      0\n",
              "25795  20639792  Contemporary bedroom in brownstone with nice view      0\n",
              "25796  20639914       Cozy yet spacious private brownstone bedroom      0\n",
              "26259  20933849                              the best you can find      0\n",
              "26841  21291569  Coliving in Brooklyn! Modern design / Shared room      0\n",
              "26866  21304320             Best Coliving space ever! Shared room.      0"
            ],
            "text/html": [
              "\n",
              "  <div id=\"df-0c8b691c-7907-476e-a4ec-77469e09964b\">\n",
              "    <div class=\"colab-df-container\">\n",
              "      <div>\n",
              "<style scoped>\n",
              "    .dataframe tbody tr th:only-of-type {\n",
              "        vertical-align: middle;\n",
              "    }\n",
              "\n",
              "    .dataframe tbody tr th {\n",
              "        vertical-align: top;\n",
              "    }\n",
              "\n",
              "    .dataframe thead th {\n",
              "        text-align: right;\n",
              "    }\n",
              "</style>\n",
              "<table border=\"1\" class=\"dataframe\">\n",
              "  <thead>\n",
              "    <tr style=\"text-align: right;\">\n",
              "      <th></th>\n",
              "      <th>id</th>\n",
              "      <th>name</th>\n",
              "      <th>price</th>\n",
              "    </tr>\n",
              "  </thead>\n",
              "  <tbody>\n",
              "    <tr>\n",
              "      <th>23161</th>\n",
              "      <td>18750597</td>\n",
              "      <td>Huge Brooklyn Brownstone Living, Close to it all.</td>\n",
              "      <td>0</td>\n",
              "    </tr>\n",
              "    <tr>\n",
              "      <th>25433</th>\n",
              "      <td>20333471</td>\n",
              "      <td>★Hostel Style Room | Ideal Traveling Buddies★</td>\n",
              "      <td>0</td>\n",
              "    </tr>\n",
              "    <tr>\n",
              "      <th>25634</th>\n",
              "      <td>20523843</td>\n",
              "      <td>MARTIAL LOFT 3: REDEMPTION (upstairs, 2nd room)</td>\n",
              "      <td>0</td>\n",
              "    </tr>\n",
              "    <tr>\n",
              "      <th>25753</th>\n",
              "      <td>20608117</td>\n",
              "      <td>Sunny, Quiet Room in Greenpoint</td>\n",
              "      <td>0</td>\n",
              "    </tr>\n",
              "    <tr>\n",
              "      <th>25778</th>\n",
              "      <td>20624541</td>\n",
              "      <td>Modern apartment in the heart of Williamsburg</td>\n",
              "      <td>0</td>\n",
              "    </tr>\n",
              "    <tr>\n",
              "      <th>25794</th>\n",
              "      <td>20639628</td>\n",
              "      <td>Spacious comfortable master bedroom with nice ...</td>\n",
              "      <td>0</td>\n",
              "    </tr>\n",
              "    <tr>\n",
              "      <th>25795</th>\n",
              "      <td>20639792</td>\n",
              "      <td>Contemporary bedroom in brownstone with nice view</td>\n",
              "      <td>0</td>\n",
              "    </tr>\n",
              "    <tr>\n",
              "      <th>25796</th>\n",
              "      <td>20639914</td>\n",
              "      <td>Cozy yet spacious private brownstone bedroom</td>\n",
              "      <td>0</td>\n",
              "    </tr>\n",
              "    <tr>\n",
              "      <th>26259</th>\n",
              "      <td>20933849</td>\n",
              "      <td>the best you can find</td>\n",
              "      <td>0</td>\n",
              "    </tr>\n",
              "    <tr>\n",
              "      <th>26841</th>\n",
              "      <td>21291569</td>\n",
              "      <td>Coliving in Brooklyn! Modern design / Shared room</td>\n",
              "      <td>0</td>\n",
              "    </tr>\n",
              "    <tr>\n",
              "      <th>26866</th>\n",
              "      <td>21304320</td>\n",
              "      <td>Best Coliving space ever! Shared room.</td>\n",
              "      <td>0</td>\n",
              "    </tr>\n",
              "  </tbody>\n",
              "</table>\n",
              "</div>\n",
              "      <button class=\"colab-df-convert\" onclick=\"convertToInteractive('df-0c8b691c-7907-476e-a4ec-77469e09964b')\"\n",
              "              title=\"Convert this dataframe to an interactive table.\"\n",
              "              style=\"display:none;\">\n",
              "        \n",
              "  <svg xmlns=\"http://www.w3.org/2000/svg\" height=\"24px\"viewBox=\"0 0 24 24\"\n",
              "       width=\"24px\">\n",
              "    <path d=\"M0 0h24v24H0V0z\" fill=\"none\"/>\n",
              "    <path d=\"M18.56 5.44l.94 2.06.94-2.06 2.06-.94-2.06-.94-.94-2.06-.94 2.06-2.06.94zm-11 1L8.5 8.5l.94-2.06 2.06-.94-2.06-.94L8.5 2.5l-.94 2.06-2.06.94zm10 10l.94 2.06.94-2.06 2.06-.94-2.06-.94-.94-2.06-.94 2.06-2.06.94z\"/><path d=\"M17.41 7.96l-1.37-1.37c-.4-.4-.92-.59-1.43-.59-.52 0-1.04.2-1.43.59L10.3 9.45l-7.72 7.72c-.78.78-.78 2.05 0 2.83L4 21.41c.39.39.9.59 1.41.59.51 0 1.02-.2 1.41-.59l7.78-7.78 2.81-2.81c.8-.78.8-2.07 0-2.86zM5.41 20L4 18.59l7.72-7.72 1.47 1.35L5.41 20z\"/>\n",
              "  </svg>\n",
              "      </button>\n",
              "      \n",
              "  <style>\n",
              "    .colab-df-container {\n",
              "      display:flex;\n",
              "      flex-wrap:wrap;\n",
              "      gap: 12px;\n",
              "    }\n",
              "\n",
              "    .colab-df-convert {\n",
              "      background-color: #E8F0FE;\n",
              "      border: none;\n",
              "      border-radius: 50%;\n",
              "      cursor: pointer;\n",
              "      display: none;\n",
              "      fill: #1967D2;\n",
              "      height: 32px;\n",
              "      padding: 0 0 0 0;\n",
              "      width: 32px;\n",
              "    }\n",
              "\n",
              "    .colab-df-convert:hover {\n",
              "      background-color: #E2EBFA;\n",
              "      box-shadow: 0px 1px 2px rgba(60, 64, 67, 0.3), 0px 1px 3px 1px rgba(60, 64, 67, 0.15);\n",
              "      fill: #174EA6;\n",
              "    }\n",
              "\n",
              "    [theme=dark] .colab-df-convert {\n",
              "      background-color: #3B4455;\n",
              "      fill: #D2E3FC;\n",
              "    }\n",
              "\n",
              "    [theme=dark] .colab-df-convert:hover {\n",
              "      background-color: #434B5C;\n",
              "      box-shadow: 0px 1px 3px 1px rgba(0, 0, 0, 0.15);\n",
              "      filter: drop-shadow(0px 1px 2px rgba(0, 0, 0, 0.3));\n",
              "      fill: #FFFFFF;\n",
              "    }\n",
              "  </style>\n",
              "\n",
              "      <script>\n",
              "        const buttonEl =\n",
              "          document.querySelector('#df-0c8b691c-7907-476e-a4ec-77469e09964b button.colab-df-convert');\n",
              "        buttonEl.style.display =\n",
              "          google.colab.kernel.accessAllowed ? 'block' : 'none';\n",
              "\n",
              "        async function convertToInteractive(key) {\n",
              "          const element = document.querySelector('#df-0c8b691c-7907-476e-a4ec-77469e09964b');\n",
              "          const dataTable =\n",
              "            await google.colab.kernel.invokeFunction('convertToInteractive',\n",
              "                                                     [key], {});\n",
              "          if (!dataTable) return;\n",
              "\n",
              "          const docLinkHtml = 'Like what you see? Visit the ' +\n",
              "            '<a target=\"_blank\" href=https://colab.research.google.com/notebooks/data_table.ipynb>data table notebook</a>'\n",
              "            + ' to learn more about interactive tables.';\n",
              "          element.innerHTML = '';\n",
              "          dataTable['output_type'] = 'display_data';\n",
              "          await google.colab.output.renderOutput(dataTable, element);\n",
              "          const docLink = document.createElement('div');\n",
              "          docLink.innerHTML = docLinkHtml;\n",
              "          element.appendChild(docLink);\n",
              "        }\n",
              "      </script>\n",
              "    </div>\n",
              "  </div>\n",
              "  "
            ]
          },
          "metadata": {},
          "execution_count": 13
        }
      ]
    },
    {
      "cell_type": "code",
      "source": [
        "# Write your code to make your dataset analysis ready.\n",
        "# drop row indexes from DataFrame which have price =0.  \n",
        "try:\n",
        "  index_names = airbnb_df[airbnb_df['price'] == 0].index\n",
        "  airbnb_df.drop(index_names, inplace = True)\n",
        "except:\n",
        "  print(\"No Data found for price=0\")\n",
        "# After deletion\n",
        "airbnb_df[airbnb_df['price']==0]"
      ],
      "metadata": {
        "id": "wk-9a2fpoLcV",
        "outputId": "0938f986-7ab7-4726-9611-728415c2d8c5",
        "colab": {
          "base_uri": "https://localhost:8080/",
          "height": 113
        }
      },
      "execution_count": 14,
      "outputs": [
        {
          "output_type": "execute_result",
          "data": {
            "text/plain": [
              "Empty DataFrame\n",
              "Columns: [id, name, host_id, host_name, neighbourhood_group, neighbourhood, latitude, longitude, room_type, price, minimum_nights, number_of_reviews, last_review, reviews_per_month, calculated_host_listings_count, availability_365]\n",
              "Index: []"
            ],
            "text/html": [
              "\n",
              "  <div id=\"df-8e0480c5-d594-4c5b-a9cd-b25a43edc73d\">\n",
              "    <div class=\"colab-df-container\">\n",
              "      <div>\n",
              "<style scoped>\n",
              "    .dataframe tbody tr th:only-of-type {\n",
              "        vertical-align: middle;\n",
              "    }\n",
              "\n",
              "    .dataframe tbody tr th {\n",
              "        vertical-align: top;\n",
              "    }\n",
              "\n",
              "    .dataframe thead th {\n",
              "        text-align: right;\n",
              "    }\n",
              "</style>\n",
              "<table border=\"1\" class=\"dataframe\">\n",
              "  <thead>\n",
              "    <tr style=\"text-align: right;\">\n",
              "      <th></th>\n",
              "      <th>id</th>\n",
              "      <th>name</th>\n",
              "      <th>host_id</th>\n",
              "      <th>host_name</th>\n",
              "      <th>neighbourhood_group</th>\n",
              "      <th>neighbourhood</th>\n",
              "      <th>latitude</th>\n",
              "      <th>longitude</th>\n",
              "      <th>room_type</th>\n",
              "      <th>price</th>\n",
              "      <th>minimum_nights</th>\n",
              "      <th>number_of_reviews</th>\n",
              "      <th>last_review</th>\n",
              "      <th>reviews_per_month</th>\n",
              "      <th>calculated_host_listings_count</th>\n",
              "      <th>availability_365</th>\n",
              "    </tr>\n",
              "  </thead>\n",
              "  <tbody>\n",
              "  </tbody>\n",
              "</table>\n",
              "</div>\n",
              "      <button class=\"colab-df-convert\" onclick=\"convertToInteractive('df-8e0480c5-d594-4c5b-a9cd-b25a43edc73d')\"\n",
              "              title=\"Convert this dataframe to an interactive table.\"\n",
              "              style=\"display:none;\">\n",
              "        \n",
              "  <svg xmlns=\"http://www.w3.org/2000/svg\" height=\"24px\"viewBox=\"0 0 24 24\"\n",
              "       width=\"24px\">\n",
              "    <path d=\"M0 0h24v24H0V0z\" fill=\"none\"/>\n",
              "    <path d=\"M18.56 5.44l.94 2.06.94-2.06 2.06-.94-2.06-.94-.94-2.06-.94 2.06-2.06.94zm-11 1L8.5 8.5l.94-2.06 2.06-.94-2.06-.94L8.5 2.5l-.94 2.06-2.06.94zm10 10l.94 2.06.94-2.06 2.06-.94-2.06-.94-.94-2.06-.94 2.06-2.06.94z\"/><path d=\"M17.41 7.96l-1.37-1.37c-.4-.4-.92-.59-1.43-.59-.52 0-1.04.2-1.43.59L10.3 9.45l-7.72 7.72c-.78.78-.78 2.05 0 2.83L4 21.41c.39.39.9.59 1.41.59.51 0 1.02-.2 1.41-.59l7.78-7.78 2.81-2.81c.8-.78.8-2.07 0-2.86zM5.41 20L4 18.59l7.72-7.72 1.47 1.35L5.41 20z\"/>\n",
              "  </svg>\n",
              "      </button>\n",
              "      \n",
              "  <style>\n",
              "    .colab-df-container {\n",
              "      display:flex;\n",
              "      flex-wrap:wrap;\n",
              "      gap: 12px;\n",
              "    }\n",
              "\n",
              "    .colab-df-convert {\n",
              "      background-color: #E8F0FE;\n",
              "      border: none;\n",
              "      border-radius: 50%;\n",
              "      cursor: pointer;\n",
              "      display: none;\n",
              "      fill: #1967D2;\n",
              "      height: 32px;\n",
              "      padding: 0 0 0 0;\n",
              "      width: 32px;\n",
              "    }\n",
              "\n",
              "    .colab-df-convert:hover {\n",
              "      background-color: #E2EBFA;\n",
              "      box-shadow: 0px 1px 2px rgba(60, 64, 67, 0.3), 0px 1px 3px 1px rgba(60, 64, 67, 0.15);\n",
              "      fill: #174EA6;\n",
              "    }\n",
              "\n",
              "    [theme=dark] .colab-df-convert {\n",
              "      background-color: #3B4455;\n",
              "      fill: #D2E3FC;\n",
              "    }\n",
              "\n",
              "    [theme=dark] .colab-df-convert:hover {\n",
              "      background-color: #434B5C;\n",
              "      box-shadow: 0px 1px 3px 1px rgba(0, 0, 0, 0.15);\n",
              "      filter: drop-shadow(0px 1px 2px rgba(0, 0, 0, 0.3));\n",
              "      fill: #FFFFFF;\n",
              "    }\n",
              "  </style>\n",
              "\n",
              "      <script>\n",
              "        const buttonEl =\n",
              "          document.querySelector('#df-8e0480c5-d594-4c5b-a9cd-b25a43edc73d button.colab-df-convert');\n",
              "        buttonEl.style.display =\n",
              "          google.colab.kernel.accessAllowed ? 'block' : 'none';\n",
              "\n",
              "        async function convertToInteractive(key) {\n",
              "          const element = document.querySelector('#df-8e0480c5-d594-4c5b-a9cd-b25a43edc73d');\n",
              "          const dataTable =\n",
              "            await google.colab.kernel.invokeFunction('convertToInteractive',\n",
              "                                                     [key], {});\n",
              "          if (!dataTable) return;\n",
              "\n",
              "          const docLinkHtml = 'Like what you see? Visit the ' +\n",
              "            '<a target=\"_blank\" href=https://colab.research.google.com/notebooks/data_table.ipynb>data table notebook</a>'\n",
              "            + ' to learn more about interactive tables.';\n",
              "          element.innerHTML = '';\n",
              "          dataTable['output_type'] = 'display_data';\n",
              "          await google.colab.output.renderOutput(dataTable, element);\n",
              "          const docLink = document.createElement('div');\n",
              "          docLink.innerHTML = docLinkHtml;\n",
              "          element.appendChild(docLink);\n",
              "        }\n",
              "      </script>\n",
              "    </div>\n",
              "  </div>\n",
              "  "
            ]
          },
          "metadata": {},
          "execution_count": 14
        }
      ]
    },
    {
      "cell_type": "markdown",
      "source": [
        "## ***4. Data Vizualization, Storytelling & Experimenting with charts : Understand the relationships between variables***"
      ],
      "metadata": {
        "id": "GF8Ens_Soomf"
      }
    },
    {
      "cell_type": "markdown",
      "source": [
        "**# Chart - 1 is About finding count of each Room Type**"
      ],
      "metadata": {
        "id": "0wOQAZs5pc--"
      }
    },
    {
      "cell_type": "code",
      "source": [
        "# Chart - 1 visualization code\n",
        "airbnb_roomtype_data = dict(airbnb_df.room_type.value_counts())\n",
        "room_type = list(airbnb_roomtype_data.keys())\n",
        "frequency = list(airbnb_roomtype_data.values())\n",
        "# Creating plot\n",
        "fig = plt.figure(figsize =(10, 7))\n",
        "plt.pie(frequency, labels = room_type)\n",
        "print(airbnb_roomtype_data)\n",
        "# show plot\n",
        "plt.show()"
      ],
      "metadata": {
        "id": "7v_ESjsspbW7",
        "colab": {
          "base_uri": "https://localhost:8080/",
          "height": 428
        },
        "outputId": "ed89bca0-0459-4d16-e4ec-2e414f81167d"
      },
      "execution_count": 15,
      "outputs": [
        {
          "output_type": "stream",
          "name": "stdout",
          "text": [
            "{'Entire home/apt': 25407, 'Private room': 22319, 'Shared room': 1158}\n"
          ]
        },
        {
          "output_type": "display_data",
          "data": {
            "text/plain": [
              "<Figure size 720x504 with 1 Axes>"
            ],
            "image/png": "[encoded data removed]"
          },
          "metadata": {}
        }
      ]
    },
    {
      "cell_type": "markdown",
      "source": [
        "##### 1. Why did you pick the specific chart?"
      ],
      "metadata": {
        "id": "K5QZ13OEpz2H"
      }
    },
    {
      "cell_type": "markdown",
      "source": [
        "**Answer: A pie chart create a clear picture of a set of data values and eazy to understand when data is small.**"
      ],
      "metadata": {
        "id": "XESiWehPqBRc"
      }
    },
    {
      "cell_type": "markdown",
      "source": [
        "##### 2. What is/are the insight(s) found from the chart?"
      ],
      "metadata": {
        "id": "lQ7QKXXCp7Bj"
      }
    },
    {
      "cell_type": "markdown",
      "source": [
        "**Answer: Entire Home/Apartment are listed more then private rooms and there is very small quantity of shared rooms are listed.**"
      ],
      "metadata": {
        "id": "C_j1G7yiqdRP"
      }
    },
    {
      "cell_type": "markdown",
      "source": [
        "##### 3. Will the gained insights help creating a positive business impact? \n",
        "Are there any insights that lead to negative growth? Justify with specific reason."
      ],
      "metadata": {
        "id": "448CDAPjqfQr"
      }
    },
    {
      "cell_type": "markdown",
      "source": [
        "Answer Here"
      ],
      "metadata": {
        "id": "3cspy4FjqxJW"
      }
    },
    {
      "cell_type": "markdown",
      "source": [
        "**Chart - 2 states that the number of listing by top 10 is numerous**"
      ],
      "metadata": {
        "id": "KSlN3yHqYklG"
      }
    },
    {
      "cell_type": "code",
      "source": [
        "#Considering 10 highest host_id listings.\n",
        "max_hostid=airbnb_df['host_id'].value_counts().head(10)\n",
        "#creating a dataframe with max_hostid data\n",
        "df_hostid=pd.DataFrame(data=max_hostid)\n",
        "df_hostid.reset_index(inplace=True)\n",
        "df_hostid.rename(columns={'index':'Host_ID', 'host_id':'Listings_Count'}, inplace=True)\n",
        "# creating chart\n",
        "fig_1=sns.barplot(x='Host_ID',y='Listings_Count',data=df_hostid)\n",
        "sns.set(rc={'figure.figsize':(15,5)})\n",
        "fig_1.set_title('Hosts with the most listings')\n",
        "fig_1.set_ylabel('Count of listings')\n",
        "fig_1.set_xlabel('Host IDs')\n"
      ],
      "metadata": {
        "id": "R4YgtaqtYklH",
        "outputId": "9acef2bd-e9bb-4435-c61b-2624f61090be",
        "colab": {
          "base_uri": "https://localhost:8080/",
          "height": 372
        }
      },
      "execution_count": 39,
      "outputs": [
        {
          "output_type": "execute_result",
          "data": {
            "text/plain": [
              "Text(0.5, 0, 'Host IDs')"
            ]
          },
          "metadata": {},
          "execution_count": 39
        },
        {
          "output_type": "display_data",
          "data": {
            "text/plain": [
              "<Figure size 1080x360 with 1 Axes>"
            ],
            "image/png": "[encoded data removed]"
          },
          "metadata": {}
        }
      ]
    },
    {
      "cell_type": "markdown",
      "source": [
        "##### 1. Why did you pick the specific chart?"
      ],
      "metadata": {
        "id": "t6dVpIINYklI"
      }
    },
    {
      "cell_type": "markdown",
      "source": [
        "Answer Here."
      ],
      "metadata": {
        "id": "5aaW0BYyYklI"
      }
    },
    {
      "cell_type": "markdown",
      "source": [
        "##### 2. What is/are the insight(s) found from the chart?"
      ],
      "metadata": {
        "id": "ijmpgYnKYklI"
      }
    },
    {
      "cell_type": "markdown",
      "source": [
        "Answer Here"
      ],
      "metadata": {
        "id": "PSx9atu2YklI"
      }
    },
    {
      "cell_type": "markdown",
      "source": [
        "##### 3. Will the gained insights help creating a positive business impact? \n",
        "Are there any insights that lead to negative growth? Justify with specific reason."
      ],
      "metadata": {
        "id": "-JiQyfWJYklI"
      }
    },
    {
      "cell_type": "markdown",
      "source": [
        "Answer Here"
      ],
      "metadata": {
        "id": "BcBbebzrYklV"
      }
    },
    {
      "cell_type": "markdown",
      "source": [
        "**Chart - 3 states the No. of active host per location.**"
      ],
      "metadata": {
        "id": "EM7whBJCYoAo"
      }
    },
    {
      "cell_type": "code",
      "source": [
        "no_of_host_per_location = airbnb_df.groupby('neighbourhood_group')['host_id'].count()\n",
        "print(no_of_host_per_location)\n",
        "#creating chart\n",
        "plt.plot(no_of_host_per_location)\n",
        "plt.title('Number of host per location')\n",
        "plt.ylabel('Host')\n",
        "plt.xlabel('Location')"
      ],
      "metadata": {
        "id": "t6GMdE67YoAp",
        "outputId": "785c3de0-729d-4078-eb17-73d860335918",
        "colab": {
          "base_uri": "https://localhost:8080/",
          "height": 494
        }
      },
      "execution_count": 69,
      "outputs": [
        {
          "output_type": "stream",
          "name": "stdout",
          "text": [
            "neighbourhood_group\n",
            "Bronx             1090\n",
            "Brooklyn         20095\n",
            "Manhattan        21660\n",
            "Queens            5666\n",
            "Staten Island      373\n",
            "Name: host_id, dtype: int64\n"
          ]
        },
        {
          "output_type": "execute_result",
          "data": {
            "text/plain": [
              "Text(0.5, 0, 'Location')"
            ]
          },
          "metadata": {},
          "execution_count": 69
        },
        {
          "output_type": "display_data",
          "data": {
            "text/plain": [
              "<Figure size 1080x360 with 1 Axes>"
            ],
            "image/png": "[encoded data removed]"
          },
          "metadata": {}
        }
      ]
    },
    {
      "cell_type": "markdown",
      "source": [
        "##### 1. Why did you pick the specific chart?"
      ],
      "metadata": {
        "id": "fge-S5ZAYoAp"
      }
    },
    {
      "cell_type": "markdown",
      "source": [
        "Answer Here."
      ],
      "metadata": {
        "id": "5dBItgRVYoAp"
      }
    },
    {
      "cell_type": "markdown",
      "source": [
        "##### 2. What is/are the insight(s) found from the chart?"
      ],
      "metadata": {
        "id": "85gYPyotYoAp"
      }
    },
    {
      "cell_type": "markdown",
      "source": [
        "Answer Here"
      ],
      "metadata": {
        "id": "4jstXR6OYoAp"
      }
    },
    {
      "cell_type": "markdown",
      "source": [
        "##### 3. Will the gained insights help creating a positive business impact? \n",
        "Are there any insights that lead to negative growth? Justify with specific reason."
      ],
      "metadata": {
        "id": "RoGjAbkUYoAp"
      }
    },
    {
      "cell_type": "markdown",
      "source": [
        "Answer Here"
      ],
      "metadata": {
        "id": "zfJ8IqMcYoAp"
      }
    },
    {
      "cell_type": "markdown",
      "source": [
        "#### Chart - 4"
      ],
      "metadata": {
        "id": "4Of9eVA-YrdM"
      }
    },
    {
      "cell_type": "code",
      "source": [
        "# Chart - 4 visualization code"
      ],
      "metadata": {
        "id": "irlUoxc8YrdO"
      },
      "execution_count": null,
      "outputs": []
    },
    {
      "cell_type": "markdown",
      "source": [
        "##### 1. Why did you pick the specific chart?"
      ],
      "metadata": {
        "id": "iky9q4vBYrdO"
      }
    },
    {
      "cell_type": "markdown",
      "source": [
        "Answer Here."
      ],
      "metadata": {
        "id": "aJRCwT6DYrdO"
      }
    },
    {
      "cell_type": "markdown",
      "source": [
        "##### 2. What is/are the insight(s) found from the chart?"
      ],
      "metadata": {
        "id": "F6T5p64dYrdO"
      }
    },
    {
      "cell_type": "markdown",
      "source": [
        "Answer Here"
      ],
      "metadata": {
        "id": "Xx8WAJvtYrdO"
      }
    },
    {
      "cell_type": "markdown",
      "source": [
        "##### 3. Will the gained insights help creating a positive business impact? \n",
        "Are there any insights that lead to negative growth? Justify with specific reason."
      ],
      "metadata": {
        "id": "y-Ehk30pYrdP"
      }
    },
    {
      "cell_type": "markdown",
      "source": [
        "Answer Here"
      ],
      "metadata": {
        "id": "jLNxxz7MYrdP"
      }
    },
    {
      "cell_type": "markdown",
      "source": [
        "#### Chart - 5"
      ],
      "metadata": {
        "id": "bamQiAODYuh1"
      }
    },
    {
      "cell_type": "code",
      "source": [
        "# Chart - 5 visualization code"
      ],
      "metadata": {
        "id": "TIJwrbroYuh3"
      },
      "execution_count": null,
      "outputs": []
    },
    {
      "cell_type": "markdown",
      "source": [
        "##### 1. Why did you pick the specific chart?"
      ],
      "metadata": {
        "id": "QHF8YVU7Yuh3"
      }
    },
    {
      "cell_type": "markdown",
      "source": [
        "Answer Here."
      ],
      "metadata": {
        "id": "dcxuIMRPYuh3"
      }
    },
    {
      "cell_type": "markdown",
      "source": [
        "##### 2. What is/are the insight(s) found from the chart?"
      ],
      "metadata": {
        "id": "GwzvFGzlYuh3"
      }
    },
    {
      "cell_type": "markdown",
      "source": [
        "Answer Here"
      ],
      "metadata": {
        "id": "uyqkiB8YYuh3"
      }
    },
    {
      "cell_type": "markdown",
      "source": [
        "##### 3. Will the gained insights help creating a positive business impact? \n",
        "Are there any insights that lead to negative growth? Justify with specific reason."
      ],
      "metadata": {
        "id": "qYpmQ266Yuh3"
      }
    },
    {
      "cell_type": "markdown",
      "source": [
        "Answer Here"
      ],
      "metadata": {
        "id": "_WtzZ_hCYuh4"
      }
    },
    {
      "cell_type": "markdown",
      "source": [
        "#### Chart - 6"
      ],
      "metadata": {
        "id": "OH-pJp9IphqM"
      }
    },
    {
      "cell_type": "code",
      "source": [
        "# Chart - 6 visualization code"
      ],
      "metadata": {
        "id": "kuRf4wtuphqN"
      },
      "execution_count": null,
      "outputs": []
    },
    {
      "cell_type": "markdown",
      "source": [
        "##### 1. Why did you pick the specific chart?"
      ],
      "metadata": {
        "id": "bbFf2-_FphqN"
      }
    },
    {
      "cell_type": "markdown",
      "source": [
        "Answer Here."
      ],
      "metadata": {
        "id": "loh7H2nzphqN"
      }
    },
    {
      "cell_type": "markdown",
      "source": [
        "##### 2. What is/are the insight(s) found from the chart?"
      ],
      "metadata": {
        "id": "_ouA3fa0phqN"
      }
    },
    {
      "cell_type": "markdown",
      "source": [
        "Answer Here"
      ],
      "metadata": {
        "id": "VECbqPI7phqN"
      }
    },
    {
      "cell_type": "markdown",
      "source": [
        "##### 3. Will the gained insights help creating a positive business impact? \n",
        "Are there any insights that lead to negative growth? Justify with specific reason."
      ],
      "metadata": {
        "id": "Seke61FWphqN"
      }
    },
    {
      "cell_type": "markdown",
      "source": [
        "Answer Here"
      ],
      "metadata": {
        "id": "DW4_bGpfphqN"
      }
    },
    {
      "cell_type": "markdown",
      "source": [
        "#### Chart - 7"
      ],
      "metadata": {
        "id": "PIIx-8_IphqN"
      }
    },
    {
      "cell_type": "code",
      "source": [
        "# Chart - 7 visualization code"
      ],
      "metadata": {
        "id": "lqAIGUfyphqO"
      },
      "execution_count": null,
      "outputs": []
    },
    {
      "cell_type": "markdown",
      "source": [
        "##### 1. Why did you pick the specific chart?"
      ],
      "metadata": {
        "id": "t27r6nlMphqO"
      }
    },
    {
      "cell_type": "markdown",
      "source": [
        "Answer Here."
      ],
      "metadata": {
        "id": "iv6ro40sphqO"
      }
    },
    {
      "cell_type": "markdown",
      "source": [
        "##### 2. What is/are the insight(s) found from the chart?"
      ],
      "metadata": {
        "id": "r2jJGEOYphqO"
      }
    },
    {
      "cell_type": "markdown",
      "source": [
        "Answer Here"
      ],
      "metadata": {
        "id": "Po6ZPi4hphqO"
      }
    },
    {
      "cell_type": "markdown",
      "source": [
        "##### 3. Will the gained insights help creating a positive business impact? \n",
        "Are there any insights that lead to negative growth? Justify with specific reason."
      ],
      "metadata": {
        "id": "b0JNsNcRphqO"
      }
    },
    {
      "cell_type": "markdown",
      "source": [
        "Answer Here"
      ],
      "metadata": {
        "id": "xvSq8iUTphqO"
      }
    },
    {
      "cell_type": "markdown",
      "source": [
        "#### Chart - 8"
      ],
      "metadata": {
        "id": "BZR9WyysphqO"
      }
    },
    {
      "cell_type": "code",
      "source": [
        "# Chart - 8 visualization code"
      ],
      "metadata": {
        "id": "TdPTWpAVphqO"
      },
      "execution_count": null,
      "outputs": []
    },
    {
      "cell_type": "markdown",
      "source": [
        "##### 1. Why did you pick the specific chart?"
      ],
      "metadata": {
        "id": "jj7wYXLtphqO"
      }
    },
    {
      "cell_type": "markdown",
      "source": [
        "Answer Here."
      ],
      "metadata": {
        "id": "Ob8u6rCTphqO"
      }
    },
    {
      "cell_type": "markdown",
      "source": [
        "##### 2. What is/are the insight(s) found from the chart?"
      ],
      "metadata": {
        "id": "eZrbJ2SmphqO"
      }
    },
    {
      "cell_type": "markdown",
      "source": [
        "Answer Here"
      ],
      "metadata": {
        "id": "mZtgC_hjphqO"
      }
    },
    {
      "cell_type": "markdown",
      "source": [
        "##### 3. Will the gained insights help creating a positive business impact? \n",
        "Are there any insights that lead to negative growth? Justify with specific reason."
      ],
      "metadata": {
        "id": "rFu4xreNphqO"
      }
    },
    {
      "cell_type": "markdown",
      "source": [
        "Answer Here"
      ],
      "metadata": {
        "id": "ey_0qi68phqO"
      }
    },
    {
      "cell_type": "markdown",
      "source": [
        "#### Chart - 9"
      ],
      "metadata": {
        "id": "YJ55k-q6phqO"
      }
    },
    {
      "cell_type": "code",
      "source": [
        "# Chart - 9 visualization code"
      ],
      "metadata": {
        "id": "B2aS4O1ophqO"
      },
      "execution_count": null,
      "outputs": []
    },
    {
      "cell_type": "markdown",
      "source": [
        "##### 1. Why did you pick the specific chart?"
      ],
      "metadata": {
        "id": "gCFgpxoyphqP"
      }
    },
    {
      "cell_type": "markdown",
      "source": [
        "Answer Here."
      ],
      "metadata": {
        "id": "TVxDimi2phqP"
      }
    },
    {
      "cell_type": "markdown",
      "source": [
        "##### 2. What is/are the insight(s) found from the chart?"
      ],
      "metadata": {
        "id": "OVtJsKN_phqQ"
      }
    },
    {
      "cell_type": "markdown",
      "source": [
        "Answer Here"
      ],
      "metadata": {
        "id": "ngGi97qjphqQ"
      }
    },
    {
      "cell_type": "markdown",
      "source": [
        "##### 3. Will the gained insights help creating a positive business impact? \n",
        "Are there any insights that lead to negative growth? Justify with specific reason."
      ],
      "metadata": {
        "id": "lssrdh5qphqQ"
      }
    },
    {
      "cell_type": "markdown",
      "source": [
        "Answer Here"
      ],
      "metadata": {
        "id": "tBpY5ekJphqQ"
      }
    },
    {
      "cell_type": "markdown",
      "source": [
        "#### Chart - 10"
      ],
      "metadata": {
        "id": "U2RJ9gkRphqQ"
      }
    },
    {
      "cell_type": "code",
      "source": [
        "# Chart - 10 visualization code"
      ],
      "metadata": {
        "id": "GM7a4YP4phqQ"
      },
      "execution_count": null,
      "outputs": []
    },
    {
      "cell_type": "markdown",
      "source": [
        "##### 1. Why did you pick the specific chart?"
      ],
      "metadata": {
        "id": "1M8mcRywphqQ"
      }
    },
    {
      "cell_type": "markdown",
      "source": [
        "Answer Here."
      ],
      "metadata": {
        "id": "8agQvks0phqQ"
      }
    },
    {
      "cell_type": "markdown",
      "source": [
        "##### 2. What is/are the insight(s) found from the chart?"
      ],
      "metadata": {
        "id": "tgIPom80phqQ"
      }
    },
    {
      "cell_type": "markdown",
      "source": [
        "Answer Here"
      ],
      "metadata": {
        "id": "Qp13pnNzphqQ"
      }
    },
    {
      "cell_type": "markdown",
      "source": [
        "##### 3. Will the gained insights help creating a positive business impact? \n",
        "Are there any insights that lead to negative growth? Justify with specific reason."
      ],
      "metadata": {
        "id": "JMzcOPDDphqR"
      }
    },
    {
      "cell_type": "markdown",
      "source": [
        "Answer Here"
      ],
      "metadata": {
        "id": "R4Ka1PC2phqR"
      }
    },
    {
      "cell_type": "markdown",
      "source": [
        "#### Chart - 11"
      ],
      "metadata": {
        "id": "x-EpHcCOp1ci"
      }
    },
    {
      "cell_type": "code",
      "source": [
        "# Chart - 11 visualization code"
      ],
      "metadata": {
        "id": "mAQTIvtqp1cj"
      },
      "execution_count": null,
      "outputs": []
    },
    {
      "cell_type": "markdown",
      "source": [
        "##### 1. Why did you pick the specific chart?"
      ],
      "metadata": {
        "id": "X_VqEhTip1ck"
      }
    },
    {
      "cell_type": "markdown",
      "source": [
        "Answer Here."
      ],
      "metadata": {
        "id": "-vsMzt_np1ck"
      }
    },
    {
      "cell_type": "markdown",
      "source": [
        "##### 2. What is/are the insight(s) found from the chart?"
      ],
      "metadata": {
        "id": "8zGJKyg5p1ck"
      }
    },
    {
      "cell_type": "markdown",
      "source": [
        "Answer Here"
      ],
      "metadata": {
        "id": "ZYdMsrqVp1ck"
      }
    },
    {
      "cell_type": "markdown",
      "source": [
        "##### 3. Will the gained insights help creating a positive business impact? \n",
        "Are there any insights that lead to negative growth? Justify with specific reason."
      ],
      "metadata": {
        "id": "PVzmfK_Ep1ck"
      }
    },
    {
      "cell_type": "markdown",
      "source": [
        "Answer Here"
      ],
      "metadata": {
        "id": "druuKYZpp1ck"
      }
    },
    {
      "cell_type": "markdown",
      "source": [
        "#### Chart - 12"
      ],
      "metadata": {
        "id": "n3dbpmDWp1ck"
      }
    },
    {
      "cell_type": "code",
      "source": [
        "# Chart - 12 visualization code"
      ],
      "metadata": {
        "id": "bwevp1tKp1ck"
      },
      "execution_count": null,
      "outputs": []
    },
    {
      "cell_type": "markdown",
      "source": [
        "##### 1. Why did you pick the specific chart?"
      ],
      "metadata": {
        "id": "ylSl6qgtp1ck"
      }
    },
    {
      "cell_type": "markdown",
      "source": [
        "Answer Here."
      ],
      "metadata": {
        "id": "m2xqNkiQp1ck"
      }
    },
    {
      "cell_type": "markdown",
      "source": [
        "##### 2. What is/are the insight(s) found from the chart?"
      ],
      "metadata": {
        "id": "ZWILFDl5p1ck"
      }
    },
    {
      "cell_type": "markdown",
      "source": [
        "Answer Here"
      ],
      "metadata": {
        "id": "x-lUsV2mp1ck"
      }
    },
    {
      "cell_type": "markdown",
      "source": [
        "##### 3. Will the gained insights help creating a positive business impact? \n",
        "Are there any insights that lead to negative growth? Justify with specific reason."
      ],
      "metadata": {
        "id": "M7G43BXep1ck"
      }
    },
    {
      "cell_type": "markdown",
      "source": [
        "Answer Here"
      ],
      "metadata": {
        "id": "5wwDJXsLp1cl"
      }
    },
    {
      "cell_type": "markdown",
      "source": [
        "#### Chart - 13"
      ],
      "metadata": {
        "id": "Ag9LCva-p1cl"
      }
    },
    {
      "cell_type": "code",
      "source": [
        "# Chart - 13 visualization code"
      ],
      "metadata": {
        "id": "EUfxeq9-p1cl"
      },
      "execution_count": null,
      "outputs": []
    },
    {
      "cell_type": "markdown",
      "source": [
        "##### 1. Why did you pick the specific chart?"
      ],
      "metadata": {
        "id": "E6MkPsBcp1cl"
      }
    },
    {
      "cell_type": "markdown",
      "source": [
        "Answer Here."
      ],
      "metadata": {
        "id": "V22bRsFWp1cl"
      }
    },
    {
      "cell_type": "markdown",
      "source": [
        "##### 2. What is/are the insight(s) found from the chart?"
      ],
      "metadata": {
        "id": "2cELzS2fp1cl"
      }
    },
    {
      "cell_type": "markdown",
      "source": [
        "Answer Here"
      ],
      "metadata": {
        "id": "ozQPc2_Ip1cl"
      }
    },
    {
      "cell_type": "markdown",
      "source": [
        "##### 3. Will the gained insights help creating a positive business impact? \n",
        "Are there any insights that lead to negative growth? Justify with specific reason."
      ],
      "metadata": {
        "id": "3MPXvC8up1cl"
      }
    },
    {
      "cell_type": "markdown",
      "source": [
        "Answer Here"
      ],
      "metadata": {
        "id": "GL8l1tdLp1cl"
      }
    },
    {
      "cell_type": "markdown",
      "source": [
        "#### Chart - 14 - Correlation Heatmap"
      ],
      "metadata": {
        "id": "NC_X3p0fY2L0"
      }
    },
    {
      "cell_type": "code",
      "source": [
        "# Correlation Heatmap visualization code"
      ],
      "metadata": {
        "id": "xyC9zolEZNRQ"
      },
      "execution_count": null,
      "outputs": []
    },
    {
      "cell_type": "markdown",
      "source": [
        "##### 1. Why did you pick the specific chart?"
      ],
      "metadata": {
        "id": "UV0SzAkaZNRQ"
      }
    },
    {
      "cell_type": "markdown",
      "source": [
        "Answer Here."
      ],
      "metadata": {
        "id": "DVPuT8LYZNRQ"
      }
    },
    {
      "cell_type": "markdown",
      "source": [
        "##### 2. What is/are the insight(s) found from the chart?"
      ],
      "metadata": {
        "id": "YPEH6qLeZNRQ"
      }
    },
    {
      "cell_type": "markdown",
      "source": [
        "Answer Here"
      ],
      "metadata": {
        "id": "bfSqtnDqZNRR"
      }
    },
    {
      "cell_type": "markdown",
      "source": [
        "#### Chart - 15 - Pair Plot "
      ],
      "metadata": {
        "id": "q29F0dvdveiT"
      }
    },
    {
      "cell_type": "code",
      "source": [
        "# Pair Plot visualization code"
      ],
      "metadata": {
        "id": "o58-TEIhveiU"
      },
      "execution_count": null,
      "outputs": []
    },
    {
      "cell_type": "markdown",
      "source": [
        "##### 1. Why did you pick the specific chart?"
      ],
      "metadata": {
        "id": "EXh0U9oCveiU"
      }
    },
    {
      "cell_type": "markdown",
      "source": [
        "Answer Here."
      ],
      "metadata": {
        "id": "eMmPjTByveiU"
      }
    },
    {
      "cell_type": "markdown",
      "source": [
        "##### 2. What is/are the insight(s) found from the chart?"
      ],
      "metadata": {
        "id": "22aHeOlLveiV"
      }
    },
    {
      "cell_type": "markdown",
      "source": [
        "Answer Here"
      ],
      "metadata": {
        "id": "uPQ8RGwHveiV"
      }
    },
    {
      "cell_type": "markdown",
      "source": [
        "## **5. Solution to Business Objective**"
      ],
      "metadata": {
        "id": "JcMwzZxoAimU"
      }
    },
    {
      "cell_type": "markdown",
      "source": [
        "#### What do you suggest the client to achieve Business Objective ? \n",
        "Explain Briefly."
      ],
      "metadata": {
        "id": "8G2x9gOozGDZ"
      }
    },
    {
      "cell_type": "markdown",
      "source": [
        "Answer Here."
      ],
      "metadata": {
        "id": "pASKb0qOza21"
      }
    },
    {
      "cell_type": "markdown",
      "source": [
        "# **Conclusion**"
      ],
      "metadata": {
        "id": "gCX9965dhzqZ"
      }
    },
    {
      "cell_type": "markdown",
      "source": [
        "Write the conclusion here."
      ],
      "metadata": {
        "id": "Fjb1IsQkh3yE"
      }
    },
    {
      "cell_type": "markdown",
      "source": [
        "### ***Hurrah! You have successfully completed your EDA Capstone Project !!!***"
      ],
      "metadata": {
        "id": "gIfDvo9L0UH2"
      }
    }
  ]
}