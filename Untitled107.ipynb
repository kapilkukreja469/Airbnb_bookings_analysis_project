{
  "nbformat": 4,
  "nbformat_minor": 0,
  "metadata": {
    "colab": {
      "provenance": [],
      "include_colab_link": true
    },
    "kernelspec": {
      "name": "python3",
      "display_name": "Python 3"
    },
    "language_info": {
      "name": "python"
    }
  },
  "cells": [
    {
      "cell_type": "markdown",
      "metadata": {
        "id": "view-in-github",
        "colab_type": "text"
      },
      "source": [
        "<a href=\"https://colab.research.google.com/github/kapilkukreja469/Airbnb_bookings_analysis_project/blob/main/Untitled107.ipynb\" target=\"_parent\"><img src=\"https://colab.research.google.com/assets/colab-badge.svg\" alt=\"Open In Colab\"/></a>"
      ]
    },
    {
      "cell_type": "markdown",
      "source": [
        "# **Smallest and the largest number**\n",
        "\n",
        "##Problem Statement\n",
        "You are given some numbers in a string separated by a comma\n",
        ".\". You need to find the smallest and the largest number from\n",
        "that input.\n",
        "##Sample Input\n",
        "78,81,12,54,1010\n",
        "##Sample Output\n",
        "Smallest = 12 Largest = 1010"
      ],
      "metadata": {
        "id": "VoTas8_mJdFY"
      }
    },
    {
      "cell_type": "code",
      "execution_count": null,
      "metadata": {
        "id": "61Yewnb6JCtk"
      },
      "outputs": [],
      "source": []
    },
    {
      "cell_type": "markdown",
      "source": [
        "# **Product & Sum**\n",
        "\n",
        "\n",
        "##Problem Statement\n",
        "Write a program to perform sum and multiplication on list of numbers\n",
        "Input Format\n",
        "First line will contain an integer number, N, indicating the number of\n",
        "elements of the list.\n",
        "The next N lines contains an integer, representing the elements of the\n",
        "list.\n",
        "##Constraints\n",
        "1<=N<=100\n",
        "1 <= element of list <= 100\n",
        "##Output Format\n",
        "Print sum of the elements of the list on the first line and product of\n",
        "the elements on the next line\n",
        "Evaluation Parameters\n",
        "##Input\n",
        "4\n",
        "\n",
        "\n",
        "1\n",
        "\n",
        "2\n",
        "\n",
        "3\n",
        "\n",
        "4\n",
        "\n",
        "##Output\n",
        "10\n",
        "\n",
        "24"
      ],
      "metadata": {
        "id": "tYUDElzBJgBb"
      }
    },
    {
      "cell_type": "code",
      "source": [],
      "metadata": {
        "id": "2vcZibhgJi3z"
      },
      "execution_count": null,
      "outputs": []
    },
    {
      "cell_type": "markdown",
      "source": [
        "##35. Maximum Possible Subsequence T of S\n",
        "\n",
        "You are given a string S that contains N characters. Your task is to determine the maximum possible size of the\n",
        "subsequence T of S such that no two adjacent characters in T are the same\n",
        "###Note:\n",
        " The string contains only lowercase English alphabets\n",
        "##Input Format\n",
        "Firstline Single integer N denoting the size of the sting\n",
        "Second line: S denoting the string\n",
        "##Constraints\n",
        "1<=N<=105\n",
        "##Output Format\n",
        "For each test case, print a single line containing one integer that represents the maximum size of the subsequence that\n",
        "satisfies the provided condition\n",
        "##Sample Input 1\n",
        "5\n",
        "\n",
        "ababa\n",
        "#3Sample Output 1\n",
        "\n",
        "5\n",
        "\n",
        "##Explanation\n",
        "\n",
        "For the string absba we can select the complete string as T, since no two adjacent characters are identical, so answer is 5\n",
        "##Sample Input 2\n",
        "5\n",
        "\n",
        "aaaac\n",
        "##Sample Output 2\n",
        "\n",
        "2\n",
        "\n",
        "##Explanation\n",
        "For the string aaaac the maximum possible T which can be formed is ac so answer is 2."
      ],
      "metadata": {
        "id": "cF7mQ_avJkfJ"
      }
    },
    {
      "cell_type": "code",
      "source": [],
      "metadata": {
        "id": "CTpffhNXJle5"
      },
      "execution_count": null,
      "outputs": []
    },
    {
      "cell_type": "markdown",
      "source": [
        "##33. Form Good Strings\n",
        "\n",
        "The English alphabet possesses a natural ordering, Character x is less\n",
        "than character y If the ASCIl code of x is less than that of y. For example\n",
        "'a'<'b\". A string ls called good if all its characters form a monotonous\n",
        "(l.e., non-increasing or non-decreasing) sequence according to the\n",
        "natural ordering of the English alphabet.\n",
        "You are given a string S. What's the minimum number of contiguous\n",
        "substrings that S must be broken into, such that each substring is\n",
        "good?\n",
        "\n",
        "\n",
        "##Input Format\n",
        "The frst line contains a string s\n",
        "##Output Format\n",
        "An INTEGER denoting the minimum numoer cf contiguous substrings S must be broken into\n",
        "###Sample Input 1\n",
        "aba\n",
        "###Sample Output 1\n",
        "2\n",
        "\n",
        "###Explanation 1\n",
        "S can be parttioned into \"ab\" and \"a.\" Both are non-decressing.\n",
        "###Sample Input 2\n",
        "aaa\n",
        "###Sample Output 2\n",
        "1\n",
        "###Explanation 2\n",
        "S is already non-decreasing\n",
        "###Sample Input 3\n",
        "abcácba\n",
        "###Sample Output 3\n",
        "2\n",
        "###Explanation 3\n",
        "S can be parttioned into \"abc\" and 'diba\". The frst one is non-decreasing, and the second one is non-increasing"
      ],
      "metadata": {
        "id": "YxnOiTxnJny1"
      }
    },
    {
      "cell_type": "code",
      "source": [],
      "metadata": {
        "id": "dqJKR0xSJo8y"
      },
      "execution_count": null,
      "outputs": []
    },
    {
      "cell_type": "markdown",
      "source": [
        "## 32. Extract Vowels\n",
        "\n",
        "Problem Statement\n",
        "\n",
        "Write a program that accepts five strings as input. For each\n",
        "string, the program extracts vowels (a, e, i, o, u) from it and\n",
        "prints them in the same order as they appear in the string\n",
        "separated by space. The program should also print the\n",
        "luplicate vowels and should handle the case sensitivity (upper\n",
        "or lower) as well.\n",
        "\n",
        "##Sample Input 1\n",
        "\n",
        "\n",
        "bETTer\n",
        "\n",
        "Applicable\n",
        "\n",
        "Alignment\n",
        "\n",
        "zipper\n",
        "\n",
        "Upper\n",
        "\n",
        "##Sample Output 1\n",
        "\n",
        "E e\n",
        "\n",
        "A i a e\n",
        "\n",
        "A i e\n",
        "\n",
        "i e\n",
        "\n",
        "U e"
      ],
      "metadata": {
        "id": "ApdK_FdTJpfM"
      }
    },
    {
      "cell_type": "code",
      "source": [],
      "metadata": {
        "id": "V5AOCbXNJsLB"
      },
      "execution_count": null,
      "outputs": []
    },
    {
      "cell_type": "markdown",
      "source": [
        "##32.  Palindrome\n",
        "\n",
        "Coding\n",
        "\n",
        "Description\n",
        "\n",
        "Problem Statement\n",
        "\n",
        "A palindrome is a word, phrase, or sequence that reads the same backwards as forwards. Write a program to find the longest palindromic substring in a given string (taken as input from console). Print the result on the console.\n",
        "\n",
        "Sample Input 1\n",
        "\n",
        "babad\n",
        "\n",
        "Sample Output 1\n",
        "\n",
        "* bab\n",
        "\n",
        "Sample Input 2\n",
        "\n",
        "sdgfgfgiweababf\n",
        "\n",
        "Sample Output 2\n",
        "\n",
        "* gfgfg"
      ],
      "metadata": {
        "id": "Q-J3zKXKJxIn"
      }
    },
    {
      "cell_type": "code",
      "source": [],
      "metadata": {
        "id": "j5L3FClpJx6c"
      },
      "execution_count": null,
      "outputs": []
    },
    {
      "cell_type": "markdown",
      "source": [
        "##33. Encrypt String\n",
        "\n",
        "Coding\n",
        "\n",
        "Description\n",
        "\n",
        "Problem Statement\n",
        "\n",
        "Write a program that takes one string as input. The program then encrypts the\n",
        "\n",
        "string and prints the output using the conditions given below:\n",
        "\n",
        "1. Remove all spaces from the string.\n",
        "\n",
        "2. Get the Ceil and Floor values of the square root of the length of the string. The Ceil value becomes the width of the grid and the Floor value becomes the height of the grid.\n",
        "\n",
        "3. If the length of the string is greater than the area of the grid (width *height), then increase the height by an Integral value to make the area equal to or greater than the length of the string.\n",
        "\n",
        "4. The program then needs to create a grid as given in the following example to generate the encrypted string.\n",
        "\n",
        "Sample Input 1\n",
        "\n",
        "* thatisswingback\n",
        "\n",
        "Sample Output 1\n",
        "\n",
        "* tiia hsnc asgk twb\n",
        "\n",
        "Explanation\n",
        "\n",
        "The Ceil and Floor values of the square root of the length of the string are 4 and 3 respectively, while 3.84 is the square root of the length of the string. Now, the area is 12, which is less than the length of the string, i.e., 15. Therefore, the minimum adjustment required is to increase the height by 1 so that the area becomes greater than or equal to 15. Consequently, the new height becomes 4 and the width also becomes 4.\n",
        "\n",
        "Now, the program will make a grid as follows:\n",
        "\n",
        "that\n",
        "\n",
        "issw\n",
        "\n",
        "ingb\n",
        "\n",
        "ack\n",
        "\n",
        "The width of each row except the last row is equal to the width calculated above, i.e., 4. Similarly, the number of rows is equal to the height. The width of the last row may or may not be equal to the calculated width.\n",
        "\n",
        "The program will now get the parallel column values and concatenate them. There\n",
        "\n",
        "will be a single space between the concatenated values.\n",
        "\n",
        "The first word, tiia is made from the first column of each row in the grid. Similarly, other encrypted words have been made. Your program needs to print this\n",
        "\n",
        "encrypted string.\n",
        "\n",
        "Sample Input 2\n",
        "\n",
        "The world is full of wonders\n",
        "\n",
        "Sample Output 2\n",
        "\n",
        "Trffe hluwr edlos wiln osod"
      ],
      "metadata": {
        "id": "NJGZDMqhJ3zG"
      }
    },
    {
      "cell_type": "code",
      "source": [],
      "metadata": {
        "id": "fIabCNK4J4gL"
      },
      "execution_count": null,
      "outputs": []
    },
    {
      "cell_type": "markdown",
      "source": [
        "## 34 Numpy Array\n",
        "Description\n",
        "\n",
        "Problem Statement\n",
        "\n",
        "Write a simple program that takes three integers as input stp, enp and step; and uses these values to return evenly spaced values within the given interval.\n",
        "\n",
        "Input Format\n",
        "\n",
        "The first line contains an integer - stp which represents the start of the\n",
        "\n",
        "interval.\n",
        "\n",
        "The second line contains an integer - enp which represents the end of the\n",
        "\n",
        "interval.\n",
        "\n",
        "The third line contains an integer - step which represents the spacing between consecutive values.\n",
        "\n",
        "Constraints\n",
        "\n",
        "• 1 <= stp < enp\n",
        "\n",
        "<= 105\n",
        "\n",
        "• 2 <= step < enp <= 105\n",
        "\n",
        "Output Format\n",
        "\n",
        "If the above constraints are not satisfied, print \"Constraints are failing!\"\n",
        "\n",
        "If the above constraints are satisfied, print each element of the list in a new line, as is generated using the condition described in the Problem Statement\n",
        "\n",
        "Evaluation Parameters\n",
        "\n",
        "Sample Input\n",
        "\n",
        "2\n",
        "\n",
        "11\n",
        "\n",
        "3\n",
        "\n",
        "Sample Output 1\n",
        "\n",
        "2\n",
        "\n",
        "5\n",
        "\n",
        "8\n",
        "\n",
        "11"
      ],
      "metadata": {
        "id": "vg4W1oPIJ6hA"
      }
    },
    {
      "cell_type": "code",
      "source": [],
      "metadata": {
        "id": "rp1H13EJJ7NQ"
      },
      "execution_count": null,
      "outputs": []
    },
    {
      "cell_type": "markdown",
      "source": [
        "## 35. Exchange characters\n",
        "\n",
        "Coding\n",
        "\n",
        "Description\n",
        "\n",
        "Problem Statement\n",
        "\n",
        "Write a program that accepts five strings, each having a length of eight characters, as input. For each string, the program needs to exchange each pair of two characters in the string, starting from the first character and printing the resultant string.\n",
        "\n",
        "* Sample Input 1\n",
        "\n",
        "mnoporst\n",
        "\n",
        "abcdefgh\n",
        "\n",
        "pingpong\n",
        "\n",
        "taptipta\n",
        "\n",
        "10298432\n",
        "\n",
        "* Sample Output 1\n",
        "\n",
        "nmporqts\n",
        "\n",
        "badcfehg\n",
        "\n",
        "ipgnopgn\n",
        "\n",
        "attppiat\n",
        "\n",
        "01924823\n",
        "\n",
        "* Sample Input 2\n",
        "\n",
        "10101010\n",
        "\n",
        "11111111\n",
        "\n",
        "aaaaaaaa\n",
        "\n",
        "ABABabab\n",
        "\n",
        "Abstract\n",
        "\n",
        "* Sample Output 2\n",
        "\n",
        "01010101\n",
        "\n",
        "11111111\n",
        "\n",
        "aaaaaaaa\n",
        "\n",
        "BABAbaba\n",
        "\n",
        "bAtsartc"
      ],
      "metadata": {
        "id": "7KU6z4hIJ9Ja"
      }
    },
    {
      "cell_type": "code",
      "source": [],
      "metadata": {
        "id": "BGFydxqcJ97w"
      },
      "execution_count": null,
      "outputs": []
    },
    {
      "cell_type": "markdown",
      "source": [
        "##37. Parenthesis\n",
        "\n",
        "Coding\n",
        "\n",
        "Description\n",
        "\n",
        "Problem Statement\n",
        "\n",
        "For a given string as input from the console, check if each opening parenthesis \"(\" is balanced by a closing parenthesis \")\". Two parentheses are considered to be a matched pair if the opening parenthesis occurs to the left of a closing parenthesis. Print \"true\" if the parenthesis is balanced or else \"false\".\n",
        "\n",
        "Sample Input 1\n",
        "\n",
        "((())())\n",
        "\n",
        "Sample Output 1\n",
        "\n",
        "true\n",
        "\n",
        "Sample Input 2\n",
        "\n",
        "(()))\n",
        "\n",
        "Sample Output 2\n",
        "\n",
        "false\n"
      ],
      "metadata": {
        "id": "5NJsRg-nJ_lc"
      }
    },
    {
      "cell_type": "code",
      "source": [],
      "metadata": {
        "id": "ZB10sopqKANB"
      },
      "execution_count": null,
      "outputs": []
    },
    {
      "cell_type": "markdown",
      "source": [
        "##38. Non Repeated Character\n",
        "\n",
        "Coding\n",
        "\n",
        "Description\n",
        "\n",
        "Problem Statement\n",
        "\n",
        "Write a program to find the first non-repeated character (a character that is not repeated or is unique) from a given string as input from the console. If a non-repeated character is not found then print \"not found\".\n",
        "\n",
        "Input Format\n",
        "\n",
        "A string, of alpha-numerics.\n",
        "\n",
        "Output Format\n",
        "\n",
        "• Output the first non-repeating character if found.\n",
        "\n",
        "Else, simply print not found.\n",
        "\n",
        "Constraints\n",
        "\n",
        "• The size of the string S. 1 <= |S| <= 105\n",
        "\n",
        "Sample Input 1\n",
        "\n",
        "* abcdefghija\n",
        "\n",
        "Sample Output 1\n",
        "\n",
        "b\n",
        "\n",
        "Sample Input 2\n",
        "\n",
        "* wsgtsgfk\n",
        "\n",
        "Sample Output 2\n",
        "\n",
        "W\n",
        "\n",
        "sample output 3\n",
        "\n",
        "* aabbcc\n",
        "\n",
        "sample output 3\n",
        "\n",
        "not found"
      ],
      "metadata": {
        "id": "mAGqFGjZKB4s"
      }
    },
    {
      "cell_type": "code",
      "source": [],
      "metadata": {
        "id": "lOaGLaH7KCwT"
      },
      "execution_count": null,
      "outputs": []
    },
    {
      "cell_type": "markdown",
      "source": [
        "## Get Longest String\n",
        "\n",
        "### Write a method getlongeststring that will accept string arguments and find the longest one. The method should return the longest string.\n",
        "\n",
        "**Sample Input 1**\n",
        "\n",
        "a\n",
        "\n",
        "bb\n",
        "\n",
        "CCC\n",
        "\n",
        "**Sample Output 1**\n",
        "\n",
        "CCC\n",
        "\n",
        "**Sample Input 2**\n",
        "\n",
        "12345\n",
        "\n",
        "67891011\n",
        "\n",
        "**Sample Output 2**\n",
        "\n",
        "67891011"
      ],
      "metadata": {
        "id": "UfiHIKrGKFho"
      }
    },
    {
      "cell_type": "code",
      "source": [],
      "metadata": {
        "id": "LVmMc08TKGMG"
      },
      "execution_count": null,
      "outputs": []
    },
    {
      "cell_type": "markdown",
      "source": [
        "# DataFrame\n",
        "\n",
        "Consider the following Python dictionary data and Python list labels:\n",
        "\n",
        "data = {'animal': ['cat', 'cat', 'snake', 'dog', 'dog', 'cat', 'snake', 'cat', 'dog',\n",
        "\n",
        "'dog'],\n",
        "\n",
        "'age': [2.5, 3, 0.5, np.nan , 5, 2, 4.5, np.nan, 7, 3],\n",
        "\n",
        "'visits': [1, 3, 2, 3, 2, 3, 1, 1, 2, 1],\n",
        "\n",
        "'priority': ['yes', 'yes', 'no', 'yes', 'no', 'no', 'no', 'yes', 'no', 'no']}\n",
        "\n",
        "labels = ['a', 'b', 'c', 'd', 'e', 'f', 'g','h','i','j']\n",
        "\n",
        "Create a DataFrame from this dictionary data which has the index labels and output the last 3 rows of the DataFrame.\n",
        "\n",
        "The Dictionary should contain the keys in the order specified above i.e. animal, age, visits, priority."
      ],
      "metadata": {
        "id": "Wlff1RDdKHwi"
      }
    },
    {
      "cell_type": "code",
      "source": [],
      "metadata": {
        "id": "rPe3hRweKIum"
      },
      "execution_count": null,
      "outputs": []
    },
    {
      "cell_type": "markdown",
      "source": [
        "Problem Statement\n",
        "\n",
        "A palindrome is, a sequence of characters that reads the same both forward and backwards.\n",
        "\n",
        "You are given a string S. Calculate the length of the longest palindromic substring of the string S. A substring is a contiguous part of a given string\n",
        "\n",
        "Note that there can be many longest palindromic substrings. You have to return the length of any one of them.\n",
        "\n",
        "Constraints\n",
        "\n",
        "1 = len(S) = 100\n",
        "\n",
        "Input Format\n",
        "\n",
        "The first line contains a string, S, denoting the given string.\n",
        "\n",
        "Output Format\n",
        "\n",
        "An INTEGER denoting the length of the longest palindromic substring.\n",
        "\n",
        "Sample Input 1\n",
        "\n",
        "abaab\n",
        "\n",
        "Sample Output 1\n",
        "\n",
        "4\n",
        "\n",
        "Explanation 1\n",
        "\n",
        "The longest palindromic substring is \"baab\", having a length of 4.\n",
        "\n",
        "Sample Input 2\n",
        "\n",
        "aca\n",
        "\n",
        "Sample Output 2\n",
        "\n",
        "3\n",
        "\n",
        "Explanation 2\n",
        "\n",
        "The whole string is a palindrome"
      ],
      "metadata": {
        "id": "sqfpxMSLKfC7"
      }
    },
    {
      "cell_type": "code",
      "source": [],
      "metadata": {
        "id": "v37dmqCDKfrN"
      },
      "execution_count": null,
      "outputs": []
    },
    {
      "cell_type": "markdown",
      "source": [
        "## Write a program that maps a list of words into list of integer represent the length of corresponding words.\n",
        "\n",
        "## Input\n",
        "\n",
        "3\n",
        "\n",
        "one\n",
        "\n",
        "two\n",
        "\n",
        "three\n",
        "\n",
        "## output\n",
        "\n",
        "3\n",
        "\n",
        "3\n",
        "\n",
        "5\n"
      ],
      "metadata": {
        "id": "PnwQ2KBpKhTv"
      }
    },
    {
      "cell_type": "code",
      "source": [],
      "metadata": {
        "id": "RaBC1JPPKiAO"
      },
      "execution_count": null,
      "outputs": []
    },
    {
      "cell_type": "markdown",
      "source": [
        "Problem Statement\n",
        "\n",
        "Write a program that does the following:\n",
        "\n",
        "takes two lists as inputs\n",
        "\n",
        "creates two Pandas Series out of the lists\n",
        "\n",
        "prints all those elements which are not common to either of the\n",
        "\n",
        "lists.\n",
        "\n",
        "Input Format\n",
        "\n",
        "• The first line contains space-separated values, which represent\n",
        "\n",
        "the elements of the first list list 1\n",
        "\n",
        "• The second line contains space-separated values, which\n",
        "\n",
        "represent the elements of the second list list2\n",
        "\n",
        "Output Format\n",
        "\n",
        "Print all those elements of both lists, which are not common between both; along with their dtype\n",
        "\n",
        "Evaluation Parameters\n",
        "\n",
        "Sample Input\n",
        "\n",
        "123456\n",
        "\n",
        "456789\n",
        "\n",
        "Sample Output\n",
        "\n",
        "0    1\n",
        "\n",
        "1    2\n",
        "\n",
        "2    3\n",
        "\n",
        "6    7\n",
        "\n",
        "7    8\n",
        "\n",
        "8    9\n",
        "\n",
        "dtype: object"
      ],
      "metadata": {
        "id": "PnRKmmfpKkPz"
      }
    },
    {
      "cell_type": "code",
      "source": [],
      "metadata": {
        "id": "g9MZBr2_Kk5j"
      },
      "execution_count": null,
      "outputs": []
    },
    {
      "cell_type": "markdown",
      "source": [
        "# Alphabetics\n",
        "\n",
        "###inp='abcdefghijklmnopqrstuvwxyz'"
      ],
      "metadata": {
        "id": "Gx0eIliQKmub"
      }
    },
    {
      "cell_type": "code",
      "source": [],
      "metadata": {
        "id": "8jwtRj_4KneD"
      },
      "execution_count": null,
      "outputs": []
    },
    {
      "cell_type": "markdown",
      "source": [
        "## Interger Formatting\n",
        "\n",
        "Write a function format, which will receive two integers x, y and returns the string decimal representation of x fixed to length y. If x's decimal representation itself is longer than y, return it as is, otherwise, pad it with zeroes to the left.\n",
        "\n",
        "Input-1,3\n",
        "\n",
        "Output- 001"
      ],
      "metadata": {
        "id": "X9nnQl58Ef3a"
      }
    },
    {
      "cell_type": "code",
      "source": [],
      "metadata": {
        "id": "7fsJj2lCKvfX"
      },
      "execution_count": null,
      "outputs": []
    }
  ]
}